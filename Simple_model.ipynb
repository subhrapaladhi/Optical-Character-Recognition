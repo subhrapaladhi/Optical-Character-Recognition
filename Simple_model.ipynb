{
  "nbformat": 4,
  "nbformat_minor": 0,
  "metadata": {
    "kernelspec": {
      "display_name": "Python 3",
      "language": "python",
      "name": "python3"
    },
    "language_info": {
      "codemirror_mode": {
        "name": "ipython",
        "version": 3
      },
      "file_extension": ".py",
      "mimetype": "text/x-python",
      "name": "python",
      "nbconvert_exporter": "python",
      "pygments_lexer": "ipython3",
      "version": "3.8.3"
    },
    "colab": {
      "name": "Simple model.ipynb",
      "provenance": []
    },
    "accelerator": "GPU"
  },
  "cells": [
    {
      "cell_type": "code",
      "metadata": {
        "id": "pPi7yN3YdEN9"
      },
      "source": [
        "import pandas as pd\n",
        "import numpy as np\n",
        "import matplotlib.pyplot as plt\n",
        "import seaborn as sns\n",
        "from sklearn.model_selection import train_test_split"
      ],
      "execution_count": null,
      "outputs": []
    },
    {
      "cell_type": "code",
      "metadata": {
        "id": "fbjVBV_tdNc1",
        "outputId": "32dd24fd-0a23-4881-8291-fc7af900f5dc",
        "colab": {
          "base_uri": "https://localhost:8080/"
        }
      },
      "source": [
        "from google.colab import drive\n",
        "drive.mount('/content/drive')"
      ],
      "execution_count": null,
      "outputs": [
        {
          "output_type": "stream",
          "text": [
            "Drive already mounted at /content/drive; to attempt to forcibly remount, call drive.mount(\"/content/drive\", force_remount=True).\n"
          ],
          "name": "stdout"
        }
      ]
    },
    {
      "cell_type": "code",
      "metadata": {
        "id": "G6SIwSuldEOC"
      },
      "source": [
        "totaldataset = pd.read_csv(\"drive/My Drive/ocr_data/data.csv\")"
      ],
      "execution_count": null,
      "outputs": []
    },
    {
      "cell_type": "code",
      "metadata": {
        "id": "MNaroMwOdEOF"
      },
      "source": [
        "import random\n",
        "# Original dataset has 92,000 rows and 1025 cols\n",
        "# selection 92000 rows at random for testing for now\n",
        "a=random.sample(range(0,92000), 92000)\n",
        "dataset=totaldataset.loc[a]"
      ],
      "execution_count": null,
      "outputs": []
    },
    {
      "cell_type": "code",
      "metadata": {
        "id": "q-U6i0GldEOJ",
        "outputId": "5c537363-4712-4325-9b68-1b08894ee385",
        "colab": {
          "base_uri": "https://localhost:8080/",
          "height": 253
        }
      },
      "source": [
        "dataset.head()"
      ],
      "execution_count": null,
      "outputs": [
        {
          "output_type": "execute_result",
          "data": {
            "text/html": [
              "<div>\n",
              "<style scoped>\n",
              "    .dataframe tbody tr th:only-of-type {\n",
              "        vertical-align: middle;\n",
              "    }\n",
              "\n",
              "    .dataframe tbody tr th {\n",
              "        vertical-align: top;\n",
              "    }\n",
              "\n",
              "    .dataframe thead th {\n",
              "        text-align: right;\n",
              "    }\n",
              "</style>\n",
              "<table border=\"1\" class=\"dataframe\">\n",
              "  <thead>\n",
              "    <tr style=\"text-align: right;\">\n",
              "      <th></th>\n",
              "      <th>pixel_0000</th>\n",
              "      <th>pixel_0001</th>\n",
              "      <th>pixel_0002</th>\n",
              "      <th>pixel_0003</th>\n",
              "      <th>pixel_0004</th>\n",
              "      <th>pixel_0005</th>\n",
              "      <th>pixel_0006</th>\n",
              "      <th>pixel_0007</th>\n",
              "      <th>pixel_0008</th>\n",
              "      <th>pixel_0009</th>\n",
              "      <th>pixel_0010</th>\n",
              "      <th>pixel_0011</th>\n",
              "      <th>pixel_0012</th>\n",
              "      <th>pixel_0013</th>\n",
              "      <th>pixel_0014</th>\n",
              "      <th>pixel_0015</th>\n",
              "      <th>pixel_0016</th>\n",
              "      <th>pixel_0017</th>\n",
              "      <th>pixel_0018</th>\n",
              "      <th>pixel_0019</th>\n",
              "      <th>pixel_0020</th>\n",
              "      <th>pixel_0021</th>\n",
              "      <th>pixel_0022</th>\n",
              "      <th>pixel_0023</th>\n",
              "      <th>pixel_0024</th>\n",
              "      <th>pixel_0025</th>\n",
              "      <th>pixel_0026</th>\n",
              "      <th>pixel_0027</th>\n",
              "      <th>pixel_0028</th>\n",
              "      <th>pixel_0029</th>\n",
              "      <th>pixel_0030</th>\n",
              "      <th>pixel_0031</th>\n",
              "      <th>pixel_0032</th>\n",
              "      <th>pixel_0033</th>\n",
              "      <th>pixel_0034</th>\n",
              "      <th>pixel_0035</th>\n",
              "      <th>pixel_0036</th>\n",
              "      <th>pixel_0037</th>\n",
              "      <th>pixel_0038</th>\n",
              "      <th>pixel_0039</th>\n",
              "      <th>...</th>\n",
              "      <th>pixel_0985</th>\n",
              "      <th>pixel_0986</th>\n",
              "      <th>pixel_0987</th>\n",
              "      <th>pixel_0988</th>\n",
              "      <th>pixel_0989</th>\n",
              "      <th>pixel_0990</th>\n",
              "      <th>pixel_0991</th>\n",
              "      <th>pixel_0992</th>\n",
              "      <th>pixel_0993</th>\n",
              "      <th>pixel_0994</th>\n",
              "      <th>pixel_0995</th>\n",
              "      <th>pixel_0996</th>\n",
              "      <th>pixel_0997</th>\n",
              "      <th>pixel_0998</th>\n",
              "      <th>pixel_0999</th>\n",
              "      <th>pixel_1000</th>\n",
              "      <th>pixel_1001</th>\n",
              "      <th>pixel_1002</th>\n",
              "      <th>pixel_1003</th>\n",
              "      <th>pixel_1004</th>\n",
              "      <th>pixel_1005</th>\n",
              "      <th>pixel_1006</th>\n",
              "      <th>pixel_1007</th>\n",
              "      <th>pixel_1008</th>\n",
              "      <th>pixel_1009</th>\n",
              "      <th>pixel_1010</th>\n",
              "      <th>pixel_1011</th>\n",
              "      <th>pixel_1012</th>\n",
              "      <th>pixel_1013</th>\n",
              "      <th>pixel_1014</th>\n",
              "      <th>pixel_1015</th>\n",
              "      <th>pixel_1016</th>\n",
              "      <th>pixel_1017</th>\n",
              "      <th>pixel_1018</th>\n",
              "      <th>pixel_1019</th>\n",
              "      <th>pixel_1020</th>\n",
              "      <th>pixel_1021</th>\n",
              "      <th>pixel_1022</th>\n",
              "      <th>pixel_1023</th>\n",
              "      <th>character</th>\n",
              "    </tr>\n",
              "  </thead>\n",
              "  <tbody>\n",
              "    <tr>\n",
              "      <th>91815</th>\n",
              "      <td>0</td>\n",
              "      <td>0</td>\n",
              "      <td>0</td>\n",
              "      <td>0</td>\n",
              "      <td>0</td>\n",
              "      <td>0</td>\n",
              "      <td>0</td>\n",
              "      <td>0</td>\n",
              "      <td>0</td>\n",
              "      <td>0</td>\n",
              "      <td>0</td>\n",
              "      <td>0</td>\n",
              "      <td>0</td>\n",
              "      <td>0</td>\n",
              "      <td>0</td>\n",
              "      <td>0</td>\n",
              "      <td>0</td>\n",
              "      <td>0</td>\n",
              "      <td>0</td>\n",
              "      <td>0</td>\n",
              "      <td>0</td>\n",
              "      <td>0</td>\n",
              "      <td>0</td>\n",
              "      <td>0</td>\n",
              "      <td>0</td>\n",
              "      <td>0</td>\n",
              "      <td>0</td>\n",
              "      <td>0</td>\n",
              "      <td>0</td>\n",
              "      <td>0</td>\n",
              "      <td>0</td>\n",
              "      <td>0</td>\n",
              "      <td>0</td>\n",
              "      <td>0</td>\n",
              "      <td>0</td>\n",
              "      <td>0</td>\n",
              "      <td>0</td>\n",
              "      <td>0</td>\n",
              "      <td>0</td>\n",
              "      <td>0</td>\n",
              "      <td>...</td>\n",
              "      <td>0</td>\n",
              "      <td>0</td>\n",
              "      <td>0</td>\n",
              "      <td>0</td>\n",
              "      <td>0</td>\n",
              "      <td>0</td>\n",
              "      <td>0</td>\n",
              "      <td>0</td>\n",
              "      <td>0</td>\n",
              "      <td>0</td>\n",
              "      <td>0</td>\n",
              "      <td>0</td>\n",
              "      <td>0</td>\n",
              "      <td>0</td>\n",
              "      <td>0</td>\n",
              "      <td>0</td>\n",
              "      <td>0</td>\n",
              "      <td>0</td>\n",
              "      <td>0</td>\n",
              "      <td>0</td>\n",
              "      <td>0</td>\n",
              "      <td>0</td>\n",
              "      <td>0</td>\n",
              "      <td>0</td>\n",
              "      <td>0</td>\n",
              "      <td>0</td>\n",
              "      <td>0</td>\n",
              "      <td>0</td>\n",
              "      <td>0</td>\n",
              "      <td>0</td>\n",
              "      <td>0</td>\n",
              "      <td>0</td>\n",
              "      <td>0</td>\n",
              "      <td>0</td>\n",
              "      <td>0</td>\n",
              "      <td>0</td>\n",
              "      <td>0</td>\n",
              "      <td>0</td>\n",
              "      <td>0</td>\n",
              "      <td>digit_9</td>\n",
              "    </tr>\n",
              "    <tr>\n",
              "      <th>1462</th>\n",
              "      <td>0</td>\n",
              "      <td>0</td>\n",
              "      <td>0</td>\n",
              "      <td>0</td>\n",
              "      <td>0</td>\n",
              "      <td>0</td>\n",
              "      <td>0</td>\n",
              "      <td>0</td>\n",
              "      <td>0</td>\n",
              "      <td>0</td>\n",
              "      <td>0</td>\n",
              "      <td>0</td>\n",
              "      <td>0</td>\n",
              "      <td>0</td>\n",
              "      <td>0</td>\n",
              "      <td>0</td>\n",
              "      <td>0</td>\n",
              "      <td>0</td>\n",
              "      <td>0</td>\n",
              "      <td>0</td>\n",
              "      <td>0</td>\n",
              "      <td>0</td>\n",
              "      <td>0</td>\n",
              "      <td>0</td>\n",
              "      <td>0</td>\n",
              "      <td>0</td>\n",
              "      <td>0</td>\n",
              "      <td>0</td>\n",
              "      <td>0</td>\n",
              "      <td>0</td>\n",
              "      <td>0</td>\n",
              "      <td>0</td>\n",
              "      <td>0</td>\n",
              "      <td>0</td>\n",
              "      <td>0</td>\n",
              "      <td>0</td>\n",
              "      <td>0</td>\n",
              "      <td>0</td>\n",
              "      <td>0</td>\n",
              "      <td>0</td>\n",
              "      <td>...</td>\n",
              "      <td>0</td>\n",
              "      <td>0</td>\n",
              "      <td>0</td>\n",
              "      <td>0</td>\n",
              "      <td>0</td>\n",
              "      <td>0</td>\n",
              "      <td>0</td>\n",
              "      <td>0</td>\n",
              "      <td>0</td>\n",
              "      <td>0</td>\n",
              "      <td>0</td>\n",
              "      <td>0</td>\n",
              "      <td>0</td>\n",
              "      <td>0</td>\n",
              "      <td>0</td>\n",
              "      <td>0</td>\n",
              "      <td>0</td>\n",
              "      <td>0</td>\n",
              "      <td>0</td>\n",
              "      <td>0</td>\n",
              "      <td>0</td>\n",
              "      <td>0</td>\n",
              "      <td>0</td>\n",
              "      <td>0</td>\n",
              "      <td>0</td>\n",
              "      <td>0</td>\n",
              "      <td>0</td>\n",
              "      <td>0</td>\n",
              "      <td>0</td>\n",
              "      <td>0</td>\n",
              "      <td>0</td>\n",
              "      <td>0</td>\n",
              "      <td>0</td>\n",
              "      <td>0</td>\n",
              "      <td>0</td>\n",
              "      <td>0</td>\n",
              "      <td>0</td>\n",
              "      <td>0</td>\n",
              "      <td>0</td>\n",
              "      <td>character_01_ka</td>\n",
              "    </tr>\n",
              "    <tr>\n",
              "      <th>62526</th>\n",
              "      <td>0</td>\n",
              "      <td>0</td>\n",
              "      <td>0</td>\n",
              "      <td>0</td>\n",
              "      <td>0</td>\n",
              "      <td>0</td>\n",
              "      <td>0</td>\n",
              "      <td>0</td>\n",
              "      <td>0</td>\n",
              "      <td>0</td>\n",
              "      <td>0</td>\n",
              "      <td>0</td>\n",
              "      <td>0</td>\n",
              "      <td>0</td>\n",
              "      <td>0</td>\n",
              "      <td>0</td>\n",
              "      <td>0</td>\n",
              "      <td>0</td>\n",
              "      <td>0</td>\n",
              "      <td>0</td>\n",
              "      <td>0</td>\n",
              "      <td>0</td>\n",
              "      <td>0</td>\n",
              "      <td>0</td>\n",
              "      <td>0</td>\n",
              "      <td>0</td>\n",
              "      <td>0</td>\n",
              "      <td>0</td>\n",
              "      <td>0</td>\n",
              "      <td>0</td>\n",
              "      <td>0</td>\n",
              "      <td>0</td>\n",
              "      <td>0</td>\n",
              "      <td>0</td>\n",
              "      <td>0</td>\n",
              "      <td>0</td>\n",
              "      <td>0</td>\n",
              "      <td>0</td>\n",
              "      <td>0</td>\n",
              "      <td>0</td>\n",
              "      <td>...</td>\n",
              "      <td>0</td>\n",
              "      <td>0</td>\n",
              "      <td>0</td>\n",
              "      <td>0</td>\n",
              "      <td>0</td>\n",
              "      <td>0</td>\n",
              "      <td>0</td>\n",
              "      <td>0</td>\n",
              "      <td>0</td>\n",
              "      <td>0</td>\n",
              "      <td>0</td>\n",
              "      <td>0</td>\n",
              "      <td>0</td>\n",
              "      <td>0</td>\n",
              "      <td>0</td>\n",
              "      <td>0</td>\n",
              "      <td>0</td>\n",
              "      <td>0</td>\n",
              "      <td>0</td>\n",
              "      <td>0</td>\n",
              "      <td>0</td>\n",
              "      <td>0</td>\n",
              "      <td>0</td>\n",
              "      <td>0</td>\n",
              "      <td>0</td>\n",
              "      <td>0</td>\n",
              "      <td>0</td>\n",
              "      <td>0</td>\n",
              "      <td>0</td>\n",
              "      <td>0</td>\n",
              "      <td>0</td>\n",
              "      <td>0</td>\n",
              "      <td>0</td>\n",
              "      <td>0</td>\n",
              "      <td>0</td>\n",
              "      <td>0</td>\n",
              "      <td>0</td>\n",
              "      <td>0</td>\n",
              "      <td>0</td>\n",
              "      <td>character_32_patalosaw</td>\n",
              "    </tr>\n",
              "    <tr>\n",
              "      <th>46906</th>\n",
              "      <td>0</td>\n",
              "      <td>0</td>\n",
              "      <td>0</td>\n",
              "      <td>0</td>\n",
              "      <td>0</td>\n",
              "      <td>0</td>\n",
              "      <td>0</td>\n",
              "      <td>0</td>\n",
              "      <td>0</td>\n",
              "      <td>0</td>\n",
              "      <td>0</td>\n",
              "      <td>0</td>\n",
              "      <td>0</td>\n",
              "      <td>0</td>\n",
              "      <td>0</td>\n",
              "      <td>0</td>\n",
              "      <td>0</td>\n",
              "      <td>0</td>\n",
              "      <td>0</td>\n",
              "      <td>0</td>\n",
              "      <td>0</td>\n",
              "      <td>0</td>\n",
              "      <td>0</td>\n",
              "      <td>0</td>\n",
              "      <td>0</td>\n",
              "      <td>0</td>\n",
              "      <td>0</td>\n",
              "      <td>0</td>\n",
              "      <td>0</td>\n",
              "      <td>0</td>\n",
              "      <td>0</td>\n",
              "      <td>0</td>\n",
              "      <td>0</td>\n",
              "      <td>0</td>\n",
              "      <td>0</td>\n",
              "      <td>0</td>\n",
              "      <td>0</td>\n",
              "      <td>0</td>\n",
              "      <td>0</td>\n",
              "      <td>0</td>\n",
              "      <td>...</td>\n",
              "      <td>0</td>\n",
              "      <td>0</td>\n",
              "      <td>0</td>\n",
              "      <td>0</td>\n",
              "      <td>0</td>\n",
              "      <td>0</td>\n",
              "      <td>0</td>\n",
              "      <td>0</td>\n",
              "      <td>0</td>\n",
              "      <td>0</td>\n",
              "      <td>0</td>\n",
              "      <td>0</td>\n",
              "      <td>0</td>\n",
              "      <td>0</td>\n",
              "      <td>0</td>\n",
              "      <td>0</td>\n",
              "      <td>0</td>\n",
              "      <td>0</td>\n",
              "      <td>0</td>\n",
              "      <td>0</td>\n",
              "      <td>0</td>\n",
              "      <td>0</td>\n",
              "      <td>0</td>\n",
              "      <td>0</td>\n",
              "      <td>0</td>\n",
              "      <td>0</td>\n",
              "      <td>0</td>\n",
              "      <td>0</td>\n",
              "      <td>0</td>\n",
              "      <td>0</td>\n",
              "      <td>0</td>\n",
              "      <td>0</td>\n",
              "      <td>0</td>\n",
              "      <td>0</td>\n",
              "      <td>0</td>\n",
              "      <td>0</td>\n",
              "      <td>0</td>\n",
              "      <td>0</td>\n",
              "      <td>0</td>\n",
              "      <td>character_24_bha</td>\n",
              "    </tr>\n",
              "    <tr>\n",
              "      <th>28729</th>\n",
              "      <td>0</td>\n",
              "      <td>0</td>\n",
              "      <td>0</td>\n",
              "      <td>0</td>\n",
              "      <td>0</td>\n",
              "      <td>0</td>\n",
              "      <td>0</td>\n",
              "      <td>0</td>\n",
              "      <td>0</td>\n",
              "      <td>0</td>\n",
              "      <td>0</td>\n",
              "      <td>0</td>\n",
              "      <td>0</td>\n",
              "      <td>0</td>\n",
              "      <td>0</td>\n",
              "      <td>0</td>\n",
              "      <td>0</td>\n",
              "      <td>0</td>\n",
              "      <td>0</td>\n",
              "      <td>0</td>\n",
              "      <td>0</td>\n",
              "      <td>0</td>\n",
              "      <td>0</td>\n",
              "      <td>0</td>\n",
              "      <td>0</td>\n",
              "      <td>0</td>\n",
              "      <td>0</td>\n",
              "      <td>0</td>\n",
              "      <td>0</td>\n",
              "      <td>0</td>\n",
              "      <td>0</td>\n",
              "      <td>0</td>\n",
              "      <td>0</td>\n",
              "      <td>0</td>\n",
              "      <td>0</td>\n",
              "      <td>0</td>\n",
              "      <td>0</td>\n",
              "      <td>0</td>\n",
              "      <td>0</td>\n",
              "      <td>0</td>\n",
              "      <td>...</td>\n",
              "      <td>0</td>\n",
              "      <td>0</td>\n",
              "      <td>0</td>\n",
              "      <td>0</td>\n",
              "      <td>0</td>\n",
              "      <td>0</td>\n",
              "      <td>0</td>\n",
              "      <td>0</td>\n",
              "      <td>0</td>\n",
              "      <td>0</td>\n",
              "      <td>0</td>\n",
              "      <td>0</td>\n",
              "      <td>0</td>\n",
              "      <td>0</td>\n",
              "      <td>0</td>\n",
              "      <td>0</td>\n",
              "      <td>0</td>\n",
              "      <td>0</td>\n",
              "      <td>0</td>\n",
              "      <td>0</td>\n",
              "      <td>0</td>\n",
              "      <td>0</td>\n",
              "      <td>0</td>\n",
              "      <td>0</td>\n",
              "      <td>0</td>\n",
              "      <td>0</td>\n",
              "      <td>0</td>\n",
              "      <td>0</td>\n",
              "      <td>0</td>\n",
              "      <td>0</td>\n",
              "      <td>0</td>\n",
              "      <td>0</td>\n",
              "      <td>0</td>\n",
              "      <td>0</td>\n",
              "      <td>0</td>\n",
              "      <td>0</td>\n",
              "      <td>0</td>\n",
              "      <td>0</td>\n",
              "      <td>0</td>\n",
              "      <td>character_15_adna</td>\n",
              "    </tr>\n",
              "  </tbody>\n",
              "</table>\n",
              "<p>5 rows × 1025 columns</p>\n",
              "</div>"
            ],
            "text/plain": [
              "       pixel_0000  pixel_0001  ...  pixel_1023               character\n",
              "91815           0           0  ...           0                 digit_9\n",
              "1462            0           0  ...           0         character_01_ka\n",
              "62526           0           0  ...           0  character_32_patalosaw\n",
              "46906           0           0  ...           0        character_24_bha\n",
              "28729           0           0  ...           0       character_15_adna\n",
              "\n",
              "[5 rows x 1025 columns]"
            ]
          },
          "metadata": {
            "tags": []
          },
          "execution_count": 12
        }
      ]
    },
    {
      "cell_type": "markdown",
      "metadata": {
        "id": "M-y3N7TucuEu"
      },
      "source": [
        " **Out of the 1025 columns the first 1024 contains the values of the pixels for the images.\n",
        "The last column contains the character name.**"
      ]
    },
    {
      "cell_type": "code",
      "metadata": {
        "id": "A8hTzXZDdEON"
      },
      "source": [
        "# X = The first 1024 columns\n",
        "X = dataset.iloc[:,:-1]\n",
        "\n",
        "# y = The last column\n",
        "y = dataset.iloc[:,-1]"
      ],
      "execution_count": null,
      "outputs": []
    },
    {
      "cell_type": "code",
      "metadata": {
        "id": "OMxCjZSsdEOQ"
      },
      "source": [
        "num_pixels = X.shape[1]\n",
        "# 46 characters, consonants \"ka\" to \"gya\", and the digits 0 to 9\n",
        "num_classes = 46\n",
        "# 32x32 = 1024\n",
        "img_width = 32\n",
        "img_height = 32\n",
        "img_depth = 1"
      ],
      "execution_count": null,
      "outputs": []
    },
    {
      "cell_type": "code",
      "metadata": {
        "id": "AzhvJIxngcSQ",
        "outputId": "04b86208-73b8-4025-fe71-f70ac8a1a356",
        "colab": {
          "base_uri": "https://localhost:8080/"
        }
      },
      "source": [
        "X.shape[0]"
      ],
      "execution_count": null,
      "outputs": [
        {
          "output_type": "execute_result",
          "data": {
            "text/plain": [
              "92000"
            ]
          },
          "metadata": {
            "tags": []
          },
          "execution_count": 15
        }
      ]
    },
    {
      "cell_type": "code",
      "metadata": {
        "id": "tcEa_E1UdEOU"
      },
      "source": [
        "X_images = X.values.reshape(X.shape[0],img_width,img_height)"
      ],
      "execution_count": null,
      "outputs": []
    },
    {
      "cell_type": "code",
      "metadata": {
        "id": "G5MFtq7zdEOY",
        "outputId": "4bc35a7d-371a-4735-ca47-0be9b11f2365",
        "colab": {
          "base_uri": "https://localhost:8080/",
          "height": 222
        }
      },
      "source": [
        "for i in range(1,9):\n",
        "    plt.subplot(240+i)\n",
        "    plt.axis('off')\n",
        "    plt.imshow(X_images[i-1],cmap=plt.get_cmap('gray'))\n",
        "plt.show()"
      ],
      "execution_count": null,
      "outputs": [
        {
          "output_type": "display_data",
          "data": {
            "image/png": "[encoded data removed]",
            "text/plain": [
              "<Figure size 432x288 with 8 Axes>"
            ]
          },
          "metadata": {
            "tags": [],
            "needs_background": "light"
          }
        }
      ]
    },
    {
      "cell_type": "code",
      "metadata": {
        "id": "NilT0T6ydEOb",
        "outputId": "dc2d9c1e-8c4d-4135-b964-39b5905b286c",
        "colab": {
          "base_uri": "https://localhost:8080/"
        }
      },
      "source": [
        "dataset.iloc[:,1024].value_counts()"
      ],
      "execution_count": null,
      "outputs": [
        {
          "output_type": "execute_result",
          "data": {
            "text/plain": [
              "character_18_da              2000\n",
              "character_20_na              2000\n",
              "character_33_ha              2000\n",
              "digit_4                      2000\n",
              "character_23_ba              2000\n",
              "character_36_gya             2000\n",
              "digit_1                      2000\n",
              "character_34_chhya           2000\n",
              "digit_5                      2000\n",
              "character_13_daa             2000\n",
              "character_35_tra             2000\n",
              "character_29_waw             2000\n",
              "character_28_la              2000\n",
              "character_12_thaa            2000\n",
              "character_22_pha             2000\n",
              "character_04_gha             2000\n",
              "digit_0                      2000\n",
              "character_19_dha             2000\n",
              "character_01_ka              2000\n",
              "digit_8                      2000\n",
              "character_02_kha             2000\n",
              "character_15_adna            2000\n",
              "character_07_chha            2000\n",
              "character_10_yna             2000\n",
              "character_31_petchiryakha    2000\n",
              "digit_7                      2000\n",
              "digit_9                      2000\n",
              "character_09_jha             2000\n",
              "character_17_tha             2000\n",
              "digit_6                      2000\n",
              "character_06_cha             2000\n",
              "character_16_tabala          2000\n",
              "digit_2                      2000\n",
              "digit_3                      2000\n",
              "character_24_bha             2000\n",
              "character_14_dhaa            2000\n",
              "character_27_ra              2000\n",
              "character_11_taamatar        2000\n",
              "character_25_ma              2000\n",
              "character_08_ja              2000\n",
              "character_26_yaw             2000\n",
              "character_32_patalosaw       2000\n",
              "character_30_motosaw         2000\n",
              "character_03_ga              2000\n",
              "character_21_pa              2000\n",
              "character_05_kna             2000\n",
              "Name: character, dtype: int64"
            ]
          },
          "metadata": {
            "tags": []
          },
          "execution_count": 18
        }
      ]
    },
    {
      "cell_type": "code",
      "metadata": {
        "id": "R8SIYY_OdEOf",
        "outputId": "d43b9d2f-2e4c-4e9b-a02e-454eaf2b9cae",
        "colab": {
          "base_uri": "https://localhost:8080/"
        }
      },
      "source": [
        "# Label encoding the results column\n",
        "from sklearn.preprocessing import LabelBinarizer\n",
        "binecoder = LabelBinarizer()\n",
        "Y = binecoder.fit_transform(y)\n",
        "print(y.iloc[0],Y[0])"
      ],
      "execution_count": null,
      "outputs": [
        {
          "output_type": "stream",
          "text": [
            "digit_9 [0 0 0 0 0 0 0 0 0 0 0 0 0 0 0 0 0 0 0 0 0 0 0 0 0 0 0 0 0 0 0 0 0 0 0 0 0\n",
            " 0 0 0 0 0 0 0 0 1]\n"
          ],
          "name": "stdout"
        }
      ]
    },
    {
      "cell_type": "code",
      "metadata": {
        "id": "s44ARVfQlb2K",
        "outputId": "c7d5e359-54ec-4b9f-df3b-9bd5658fef6c",
        "colab": {
          "base_uri": "https://localhost:8080/"
        }
      },
      "source": [
        "dataset.iloc[:,500:525].value_counts()"
      ],
      "execution_count": null,
      "outputs": [
        {
          "output_type": "execute_result",
          "data": {
            "text/plain": [
              "pixel_0500  pixel_0501  pixel_0502  pixel_0503  pixel_0504  pixel_0505  pixel_0506  pixel_0507  pixel_0508  pixel_0509  pixel_0510  pixel_0511  pixel_0512  pixel_0513  pixel_0514  pixel_0515  pixel_0516  pixel_0517  pixel_0518  pixel_0519  pixel_0520  pixel_0521  pixel_0522  pixel_0523  pixel_0524\n",
              "0           0           0           0           0           0           0           0           0           0           0           0           0           0           0           0           0           0           0           0           0           0           0           0           0             909\n",
              "                                                                                                                                                                                                                                                                                                1              60\n",
              "1           0           0           0           0           0           0           0           0           0           0           0           0           0           0           0           0           0           0           0           0           0           0           0           0              47\n",
              "2           0           0           0           0           0           0           0           0           0           0           0           0           0           0           0           0           0           0           0           0           0           0           0           0              31\n",
              "0           0           0           0           0           0           0           0           0           0           0           0           0           0           0           0           0           0           0           0           0           0           0           0           3              28\n",
              "                                                                                                                                                                                                                                                                                                             ... \n",
              "180         4           0           0           0           0           0           0           0           0           0           0           0           0           0           0           0           0           0           0           36          240         254         98          38              1\n",
              "            5           0           0           0           0           0           0           0           0           0           0           0           0           0           0           0           0           0           0           7           30          32          170         255             1\n",
              "                                                                                                                                                                                                                        83          255         255         255         244         95          28              1\n",
              "                                                                                                                                                                                    3           19          43          76          128         149         175         203         230         255             1\n",
              "23          10          5           3           1           3           62          235         255         255         0           0           0           0           0           0           0           0           0           0           0           0           1           6           18              1\n",
              "Length: 90331, dtype: int64"
            ]
          },
          "metadata": {
            "tags": []
          },
          "execution_count": 20
        }
      ]
    },
    {
      "cell_type": "code",
      "metadata": {
        "id": "n0JRZ6qMdEOi"
      },
      "source": [
        "# data normalization\n",
        "X = X/255"
      ],
      "execution_count": null,
      "outputs": []
    },
    {
      "cell_type": "code",
      "metadata": {
        "id": "V8jTOyCZdEOl"
      },
      "source": [
        "seed = 123\n",
        "X_train, X_test, y_train, y_test = train_test_split(X, Y, test_size=0.20, random_state=seed)"
      ],
      "execution_count": null,
      "outputs": []
    },
    {
      "cell_type": "code",
      "metadata": {
        "id": "zUEaB5VpdEOo"
      },
      "source": [
        "from keras.models import Sequential\n",
        "from keras.layers import Dense\n",
        "from keras.models import Model"
      ],
      "execution_count": null,
      "outputs": []
    },
    {
      "cell_type": "code",
      "metadata": {
        "id": "pLB8ogZGdEOr"
      },
      "source": [
        "def baseline_model():\n",
        "    model = Sequential()\n",
        "    # num_pixels = 1024\n",
        "    model.add(Dense(num_pixels,\n",
        "                    input_dim=num_pixels,\n",
        "                    kernel_initializer='normal',\n",
        "                    activation='relu'                       \n",
        "                   ))\n",
        "    model.add(Dense(num_classes,\n",
        "                   kernel_initializer='normal',\n",
        "                   activation='softmax'))\n",
        "    # Compile model\n",
        "    model.compile(loss='categorical_crossentropy',\n",
        "                 optimizer='adam',\n",
        "                 metrics=['accuracy'])\n",
        "    return model"
      ],
      "execution_count": null,
      "outputs": []
    },
    {
      "cell_type": "code",
      "metadata": {
        "id": "B6e1H8QYdEOx",
        "outputId": "70c26cf6-c1ba-401e-8988-c277963424c6",
        "colab": {
          "base_uri": "https://localhost:8080/"
        }
      },
      "source": [
        "model = baseline_model()\n",
        "model.summary()"
      ],
      "execution_count": null,
      "outputs": [
        {
          "output_type": "stream",
          "text": [
            "Model: \"sequential\"\n",
            "_________________________________________________________________\n",
            "Layer (type)                 Output Shape              Param #   \n",
            "=================================================================\n",
            "dense (Dense)                (None, 1024)              1049600   \n",
            "_________________________________________________________________\n",
            "dense_1 (Dense)              (None, 46)                47150     \n",
            "=================================================================\n",
            "Total params: 1,096,750\n",
            "Trainable params: 1,096,750\n",
            "Non-trainable params: 0\n",
            "_________________________________________________________________\n"
          ],
          "name": "stdout"
        }
      ]
    },
    {
      "cell_type": "code",
      "metadata": {
        "id": "iG7xHmvidEO0",
        "outputId": "a3137da9-32f1-4da0-e7d1-3d2a0f8e7912",
        "colab": {
          "base_uri": "https://localhost:8080/"
        }
      },
      "source": [
        "epochs = 10\n",
        "batch_size = 200\n",
        "history = model.fit(X_train.values, y_train, validation_split=0.20, epochs=epochs, batch_size=batch_size, verbose=2)"
      ],
      "execution_count": null,
      "outputs": [
        {
          "output_type": "stream",
          "text": [
            "Epoch 1/10\n",
            "295/295 - 1s - loss: 1.0850 - accuracy: 0.7124 - val_loss: 0.6313 - val_accuracy: 0.8304\n",
            "Epoch 2/10\n",
            "295/295 - 1s - loss: 0.4496 - accuracy: 0.8798 - val_loss: 0.4060 - val_accuracy: 0.8870\n",
            "Epoch 3/10\n",
            "295/295 - 1s - loss: 0.2684 - accuracy: 0.9309 - val_loss: 0.3246 - val_accuracy: 0.9065\n",
            "Epoch 4/10\n",
            "295/295 - 1s - loss: 0.1793 - accuracy: 0.9542 - val_loss: 0.2858 - val_accuracy: 0.9163\n",
            "Epoch 5/10\n",
            "295/295 - 1s - loss: 0.1236 - accuracy: 0.9690 - val_loss: 0.2459 - val_accuracy: 0.9301\n",
            "Epoch 6/10\n",
            "295/295 - 1s - loss: 0.0827 - accuracy: 0.9814 - val_loss: 0.2365 - val_accuracy: 0.9311\n",
            "Epoch 7/10\n",
            "295/295 - 1s - loss: 0.0584 - accuracy: 0.9873 - val_loss: 0.2342 - val_accuracy: 0.9328\n",
            "Epoch 8/10\n",
            "295/295 - 1s - loss: 0.0408 - accuracy: 0.9926 - val_loss: 0.2146 - val_accuracy: 0.9412\n",
            "Epoch 9/10\n",
            "295/295 - 1s - loss: 0.0256 - accuracy: 0.9965 - val_loss: 0.2196 - val_accuracy: 0.9374\n",
            "Epoch 10/10\n",
            "295/295 - 1s - loss: 0.0186 - accuracy: 0.9978 - val_loss: 0.2084 - val_accuracy: 0.9412\n"
          ],
          "name": "stdout"
        }
      ]
    },
    {
      "cell_type": "code",
      "metadata": {
        "id": "1Lu4VQq7dEO3",
        "outputId": "40347103-6b5a-4f00-e274-4088d1818303",
        "colab": {
          "base_uri": "https://localhost:8080/"
        }
      },
      "source": [
        "scores = model.evaluate(X_test.values, y_test, verbose=0)\n",
        "print(\"Accuracy: %.2f%%\" % (scores[1]*100))"
      ],
      "execution_count": null,
      "outputs": [
        {
          "output_type": "stream",
          "text": [
            "Accuracy: 94.07%\n"
          ],
          "name": "stdout"
        }
      ]
    },
    {
      "cell_type": "code",
      "metadata": {
        "id": "nUhGTp5edEO6",
        "outputId": "5d93f7dd-9fcc-4e04-a985-3e076abf8897",
        "colab": {
          "base_uri": "https://localhost:8080/",
          "height": 573
        }
      },
      "source": [
        "# summarize history for accuracy\n",
        "plt.plot(history.history['accuracy'])\n",
        "plt.plot(history.history['val_accuracy'])\n",
        "plt.title('model accuracy')\n",
        "plt.ylabel('accuracy')\n",
        "plt.xlabel('epoch')\n",
        "plt.legend(['train', 'validation'], loc='upper left')\n",
        "plt.show()\n",
        "# summarize history for loss\n",
        "plt.plot(history.history['loss'])\n",
        "plt.plot(history.history['val_loss'])\n",
        "plt.title('model loss')\n",
        "plt.ylabel('loss')\n",
        "plt.xlabel('epoch')\n",
        "\n",
        "plt.legend(['train', 'validation'], loc='upper left')\n",
        "plt.show()"
      ],
      "execution_count": null,
      "outputs": [
        {
          "output_type": "display_data",
          "data": {
            "image/png": "[encoded data removed]",
            "text/plain": [
              "<Figure size 432x288 with 1 Axes>"
            ]
          },
          "metadata": {
            "tags": [],
            "needs_background": "light"
          }
        },
        {
          "output_type": "display_data",
          "data": {
            "image/png": "[encoded data removed]",
            "text/plain": [
              "<Figure size 432x288 with 1 Axes>"
            ]
          },
          "metadata": {
            "tags": [],
            "needs_background": "light"
          }
        }
      ]
    },
    {
      "cell_type": "code",
      "metadata": {
        "id": "0xwUnlFMR8iX"
      },
      "source": [
        "from sklearn.metrics import confusion_matrix, classification_report\n",
        "import tensorflow as tf"
      ],
      "execution_count": null,
      "outputs": []
    },
    {
      "cell_type": "code",
      "metadata": {
        "id": "jsMBSZoER9MV"
      },
      "source": [
        "predictions = model.predict(X_test)\n",
        "predicted_labels = [np.argmax(i) for i in predictions]\n",
        "y_test_labels = [np.argmax(i) for i in y_test]\n",
        "\n",
        "confusoinMatrix = tf.math.confusion_matrix(labels=y_test_labels, predictions=predicted_labels)"
      ],
      "execution_count": null,
      "outputs": []
    },
    {
      "cell_type": "code",
      "metadata": {
        "id": "AMRMtbcq74j5",
        "outputId": "9fb7bd5d-af37-4fe0-b9f8-16c381378c89",
        "colab": {
          "base_uri": "https://localhost:8080/"
        }
      },
      "source": [
        "print(classification_report(y_test_labels,predicted_labels))"
      ],
      "execution_count": null,
      "outputs": [
        {
          "output_type": "stream",
          "text": [
            "              precision    recall  f1-score   support\n",
            "\n",
            "           0       0.97      0.98      0.97       406\n",
            "           1       0.98      0.90      0.94       349\n",
            "           2       0.94      0.92      0.93       399\n",
            "           3       0.92      0.86      0.89       434\n",
            "           4       0.92      0.93      0.92       409\n",
            "           5       0.93      0.95      0.94       388\n",
            "           6       0.94      0.88      0.91       370\n",
            "           7       0.95      0.95      0.95       408\n",
            "           8       0.97      0.98      0.97       363\n",
            "           9       0.90      0.94      0.92       370\n",
            "          10       0.97      0.96      0.96       372\n",
            "          11       0.95      0.96      0.95       409\n",
            "          12       0.93      0.92      0.93       399\n",
            "          13       0.94      0.96      0.95       432\n",
            "          14       0.94      0.94      0.94       394\n",
            "          15       0.96      0.97      0.96       391\n",
            "          16       0.91      0.88      0.89       384\n",
            "          17       0.92      0.92      0.92       424\n",
            "          18       0.86      0.94      0.90       389\n",
            "          19       0.92      0.93      0.92       402\n",
            "          20       0.85      0.93      0.89       389\n",
            "          21       0.99      0.96      0.97       414\n",
            "          22       0.93      0.89      0.91       440\n",
            "          23       0.96      0.92      0.94       425\n",
            "          24       0.90      0.93      0.92       384\n",
            "          25       0.89      0.90      0.89       387\n",
            "          26       0.94      0.96      0.95       421\n",
            "          27       0.93      0.97      0.95       372\n",
            "          28       0.93      0.93      0.93       397\n",
            "          29       0.94      0.93      0.93       425\n",
            "          30       0.94      0.90      0.92       411\n",
            "          31       0.90      0.88      0.89       389\n",
            "          32       0.96      0.92      0.94       385\n",
            "          33       0.94      0.95      0.94       431\n",
            "          34       0.92      0.93      0.92       397\n",
            "          35       0.93      0.96      0.94       408\n",
            "          36       0.98      0.99      0.98       390\n",
            "          37       0.99      0.97      0.98       434\n",
            "          38       0.95      0.98      0.96       407\n",
            "          39       0.97      0.96      0.96       390\n",
            "          40       0.98      0.95      0.97       385\n",
            "          41       0.98      0.98      0.98       379\n",
            "          42       0.97      0.96      0.97       422\n",
            "          43       0.97      0.99      0.98       419\n",
            "          44       0.97      0.98      0.97       403\n",
            "          45       0.99      0.98      0.98       404\n",
            "\n",
            "    accuracy                           0.94     18400\n",
            "   macro avg       0.94      0.94      0.94     18400\n",
            "weighted avg       0.94      0.94      0.94     18400\n",
            "\n"
          ],
          "name": "stdout"
        }
      ]
    },
    {
      "cell_type": "code",
      "metadata": {
        "id": "wilbYeorKg9s",
        "outputId": "889c0acb-0f0d-4a8b-a70d-916223f6b3c3",
        "colab": {
          "base_uri": "https://localhost:8080/",
          "height": 731
        }
      },
      "source": [
        "import seaborn as sns\n",
        "plt.figure(figsize=(20,12))\n",
        "sns.heatmap(confusoinMatrix, annot=True, fmt='d')\n",
        "plt.xlabel('Predicted')\n",
        "plt.ylabel('Real Values')"
      ],
      "execution_count": null,
      "outputs": [
        {
          "output_type": "execute_result",
          "data": {
            "text/plain": [
              "Text(159.0, 0.5, 'Real Values')"
            ]
          },
          "metadata": {
            "tags": []
          },
          "execution_count": 32
        },
        {
          "output_type": "display_data",
          "data": {
            "image/png": "[encoded data removed]",
            "text/plain": [
              "<Figure size 1440x864 with 2 Axes>"
            ]
          },
          "metadata": {
            "tags": [],
            "needs_background": "light"
          }
        }
      ]
    }
  ]
}