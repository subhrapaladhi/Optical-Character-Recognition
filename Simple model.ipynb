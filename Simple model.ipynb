{
 "cells": [
  {
   "cell_type": "code",
   "execution_count": 1,
   "metadata": {},
   "outputs": [],
   "source": [
    "import pandas as pd\n",
    "import numpy as np\n",
    "import matplotlib.pyplot as plt\n",
    "import seaborn as sns\n",
    "from sklearn.model_selection import train_test_split"
   ]
  },
  {
   "cell_type": "code",
   "execution_count": 2,
   "metadata": {},
   "outputs": [],
   "source": [
    "totaldataset = pd.read_csv(\"data.csv\")"
   ]
  },
  {
   "cell_type": "code",
   "execution_count": 49,
   "metadata": {},
   "outputs": [],
   "source": [
    "import random\n",
    "# Original dataset has 92,000 rows and 1025 cols\n",
    "# selection 30000 rows at random for testing for now\n",
    "a=random.sample(range(0,92000), 40000)\n",
    "dataset=totaldataset.loc[a]"
   ]
  },
  {
   "cell_type": "code",
   "execution_count": 50,
   "metadata": {},
   "outputs": [
    {
     "data": {
      "text/html": [
       "<div>\n",
       "<style scoped>\n",
       "    .dataframe tbody tr th:only-of-type {\n",
       "        vertical-align: middle;\n",
       "    }\n",
       "\n",
       "    .dataframe tbody tr th {\n",
       "        vertical-align: top;\n",
       "    }\n",
       "\n",
       "    .dataframe thead th {\n",
       "        text-align: right;\n",
       "    }\n",
       "</style>\n",
       "<table border=\"1\" class=\"dataframe\">\n",
       "  <thead>\n",
       "    <tr style=\"text-align: right;\">\n",
       "      <th></th>\n",
       "      <th>pixel_0000</th>\n",
       "      <th>pixel_0001</th>\n",
       "      <th>pixel_0002</th>\n",
       "      <th>pixel_0003</th>\n",
       "      <th>pixel_0004</th>\n",
       "      <th>pixel_0005</th>\n",
       "      <th>pixel_0006</th>\n",
       "      <th>pixel_0007</th>\n",
       "      <th>pixel_0008</th>\n",
       "      <th>pixel_0009</th>\n",
       "      <th>...</th>\n",
       "      <th>pixel_1015</th>\n",
       "      <th>pixel_1016</th>\n",
       "      <th>pixel_1017</th>\n",
       "      <th>pixel_1018</th>\n",
       "      <th>pixel_1019</th>\n",
       "      <th>pixel_1020</th>\n",
       "      <th>pixel_1021</th>\n",
       "      <th>pixel_1022</th>\n",
       "      <th>pixel_1023</th>\n",
       "      <th>character</th>\n",
       "    </tr>\n",
       "  </thead>\n",
       "  <tbody>\n",
       "    <tr>\n",
       "      <th>86037</th>\n",
       "      <td>0</td>\n",
       "      <td>0</td>\n",
       "      <td>0</td>\n",
       "      <td>0</td>\n",
       "      <td>0</td>\n",
       "      <td>0</td>\n",
       "      <td>0</td>\n",
       "      <td>0</td>\n",
       "      <td>0</td>\n",
       "      <td>0</td>\n",
       "      <td>...</td>\n",
       "      <td>0</td>\n",
       "      <td>0</td>\n",
       "      <td>0</td>\n",
       "      <td>0</td>\n",
       "      <td>0</td>\n",
       "      <td>0</td>\n",
       "      <td>0</td>\n",
       "      <td>0</td>\n",
       "      <td>0</td>\n",
       "      <td>digit_7</td>\n",
       "    </tr>\n",
       "    <tr>\n",
       "      <th>72786</th>\n",
       "      <td>0</td>\n",
       "      <td>0</td>\n",
       "      <td>0</td>\n",
       "      <td>0</td>\n",
       "      <td>0</td>\n",
       "      <td>0</td>\n",
       "      <td>0</td>\n",
       "      <td>0</td>\n",
       "      <td>0</td>\n",
       "      <td>0</td>\n",
       "      <td>...</td>\n",
       "      <td>0</td>\n",
       "      <td>0</td>\n",
       "      <td>0</td>\n",
       "      <td>0</td>\n",
       "      <td>0</td>\n",
       "      <td>0</td>\n",
       "      <td>0</td>\n",
       "      <td>0</td>\n",
       "      <td>0</td>\n",
       "      <td>digit_0</td>\n",
       "    </tr>\n",
       "    <tr>\n",
       "      <th>18596</th>\n",
       "      <td>0</td>\n",
       "      <td>0</td>\n",
       "      <td>0</td>\n",
       "      <td>0</td>\n",
       "      <td>0</td>\n",
       "      <td>0</td>\n",
       "      <td>0</td>\n",
       "      <td>0</td>\n",
       "      <td>0</td>\n",
       "      <td>0</td>\n",
       "      <td>...</td>\n",
       "      <td>0</td>\n",
       "      <td>0</td>\n",
       "      <td>0</td>\n",
       "      <td>0</td>\n",
       "      <td>0</td>\n",
       "      <td>0</td>\n",
       "      <td>0</td>\n",
       "      <td>0</td>\n",
       "      <td>0</td>\n",
       "      <td>character_10_yna</td>\n",
       "    </tr>\n",
       "    <tr>\n",
       "      <th>28192</th>\n",
       "      <td>0</td>\n",
       "      <td>0</td>\n",
       "      <td>0</td>\n",
       "      <td>0</td>\n",
       "      <td>0</td>\n",
       "      <td>0</td>\n",
       "      <td>0</td>\n",
       "      <td>0</td>\n",
       "      <td>0</td>\n",
       "      <td>0</td>\n",
       "      <td>...</td>\n",
       "      <td>0</td>\n",
       "      <td>0</td>\n",
       "      <td>0</td>\n",
       "      <td>0</td>\n",
       "      <td>0</td>\n",
       "      <td>0</td>\n",
       "      <td>0</td>\n",
       "      <td>0</td>\n",
       "      <td>0</td>\n",
       "      <td>character_15_adna</td>\n",
       "    </tr>\n",
       "    <tr>\n",
       "      <th>79624</th>\n",
       "      <td>0</td>\n",
       "      <td>0</td>\n",
       "      <td>0</td>\n",
       "      <td>0</td>\n",
       "      <td>0</td>\n",
       "      <td>0</td>\n",
       "      <td>0</td>\n",
       "      <td>0</td>\n",
       "      <td>0</td>\n",
       "      <td>0</td>\n",
       "      <td>...</td>\n",
       "      <td>0</td>\n",
       "      <td>0</td>\n",
       "      <td>0</td>\n",
       "      <td>0</td>\n",
       "      <td>0</td>\n",
       "      <td>0</td>\n",
       "      <td>0</td>\n",
       "      <td>0</td>\n",
       "      <td>0</td>\n",
       "      <td>digit_3</td>\n",
       "    </tr>\n",
       "  </tbody>\n",
       "</table>\n",
       "<p>5 rows × 1025 columns</p>\n",
       "</div>"
      ],
      "text/plain": [
       "       pixel_0000  pixel_0001  pixel_0002  pixel_0003  pixel_0004  pixel_0005  \\\n",
       "86037           0           0           0           0           0           0   \n",
       "72786           0           0           0           0           0           0   \n",
       "18596           0           0           0           0           0           0   \n",
       "28192           0           0           0           0           0           0   \n",
       "79624           0           0           0           0           0           0   \n",
       "\n",
       "       pixel_0006  pixel_0007  pixel_0008  pixel_0009  ...  pixel_1015  \\\n",
       "86037           0           0           0           0  ...           0   \n",
       "72786           0           0           0           0  ...           0   \n",
       "18596           0           0           0           0  ...           0   \n",
       "28192           0           0           0           0  ...           0   \n",
       "79624           0           0           0           0  ...           0   \n",
       "\n",
       "       pixel_1016  pixel_1017  pixel_1018  pixel_1019  pixel_1020  pixel_1021  \\\n",
       "86037           0           0           0           0           0           0   \n",
       "72786           0           0           0           0           0           0   \n",
       "18596           0           0           0           0           0           0   \n",
       "28192           0           0           0           0           0           0   \n",
       "79624           0           0           0           0           0           0   \n",
       "\n",
       "       pixel_1022  pixel_1023          character  \n",
       "86037           0           0            digit_7  \n",
       "72786           0           0            digit_0  \n",
       "18596           0           0   character_10_yna  \n",
       "28192           0           0  character_15_adna  \n",
       "79624           0           0            digit_3  \n",
       "\n",
       "[5 rows x 1025 columns]"
      ]
     },
     "execution_count": 50,
     "metadata": {},
     "output_type": "execute_result"
    }
   ],
   "source": [
    "dataset.head()"
   ]
  },
  {
   "cell_type": "code",
   "execution_count": 51,
   "metadata": {},
   "outputs": [],
   "source": [
    "X = dataset.iloc[:,:-1]\n",
    "y = dataset.iloc[:,-1]"
   ]
  },
  {
   "cell_type": "code",
   "execution_count": 52,
   "metadata": {},
   "outputs": [],
   "source": [
    "num_pixels = X.shape[1]\n",
    "# 46 characters, consonants \"ka\" to \"gya\", and the digits 0 to 9\n",
    "num_classes = 46\n",
    "img_width = 32\n",
    "img_height = 32\n",
    "img_depth = 1"
   ]
  },
  {
   "cell_type": "code",
   "execution_count": 53,
   "metadata": {},
   "outputs": [],
   "source": [
    "X_images = X.values.reshape(X.shape[0],img_width,img_height)"
   ]
  },
  {
   "cell_type": "code",
   "execution_count": 54,
   "metadata": {},
   "outputs": [
    {
     "data": {
      "image/png": "[encoded data removed]",
      "text/plain": [
       "<Figure size 432x288 with 8 Axes>"
      ]
     },
     "metadata": {
      "needs_background": "light"
     },
     "output_type": "display_data"
    }
   ],
   "source": [
    "for i in range(1,9):\n",
    "    plt.subplot(240+i)\n",
    "    plt.axis('off')\n",
    "    plt.imshow(X_images[i-1],cmap=plt.get_cmap('gray'))\n",
    "plt.show()"
   ]
  },
  {
   "cell_type": "code",
   "execution_count": 55,
   "metadata": {},
   "outputs": [
    {
     "data": {
      "text/plain": [
       "character_15_adna            917\n",
       "character_34_chhya           912\n",
       "character_16_tabala          911\n",
       "character_19_dha             911\n",
       "character_25_ma              904\n",
       "digit_2                      903\n",
       "digit_4                      901\n",
       "character_13_daa             899\n",
       "character_31_petchiryakha    898\n",
       "character_30_motosaw         893\n",
       "character_08_ja              892\n",
       "digit_1                      892\n",
       "character_14_dhaa            890\n",
       "character_36_gya             889\n",
       "character_29_waw             889\n",
       "character_10_yna             882\n",
       "digit_5                      879\n",
       "digit_9                      877\n",
       "character_23_ba              875\n",
       "digit_3                      873\n",
       "character_21_pa              870\n",
       "character_17_tha             868\n",
       "character_26_yaw             867\n",
       "character_18_da              867\n",
       "character_06_cha             867\n",
       "character_28_la              864\n",
       "character_24_bha             864\n",
       "character_11_taamatar        864\n",
       "character_05_kna             862\n",
       "digit_6                      861\n",
       "character_09_jha             860\n",
       "character_04_gha             858\n",
       "character_01_ka              857\n",
       "digit_8                      855\n",
       "character_35_tra             852\n",
       "character_20_na              851\n",
       "character_33_ha              844\n",
       "character_02_kha             844\n",
       "digit_0                      843\n",
       "character_22_pha             836\n",
       "character_27_ra              834\n",
       "character_12_thaa            833\n",
       "character_07_chha            832\n",
       "character_32_patalosaw       829\n",
       "digit_7                      823\n",
       "character_03_ga              808\n",
       "Name: character, dtype: int64"
      ]
     },
     "execution_count": 55,
     "metadata": {},
     "output_type": "execute_result"
    }
   ],
   "source": [
    "dataset.iloc[:,1024].value_counts()"
   ]
  },
  {
   "cell_type": "code",
   "execution_count": 56,
   "metadata": {},
   "outputs": [],
   "source": [
    "# output in binary format\n",
    "from sklearn.preprocessing import LabelBinarizer\n",
    "binecoder = LabelBinarizer()\n",
    "Y = binecoder.fit_transform(y)"
   ]
  },
  {
   "cell_type": "code",
   "execution_count": 57,
   "metadata": {},
   "outputs": [],
   "source": [
    "# data normalization\n",
    "X = X/255"
   ]
  },
  {
   "cell_type": "code",
   "execution_count": 58,
   "metadata": {},
   "outputs": [],
   "source": [
    "seed = 123\n",
    "X_train, X_test, y_train, y_test = train_test_split(X, Y, test_size=0.20, random_state=seed)"
   ]
  },
  {
   "cell_type": "code",
   "execution_count": 59,
   "metadata": {},
   "outputs": [],
   "source": [
    "from keras.models import Sequential\n",
    "from keras.layers import Dense\n",
    "from keras.models import Model"
   ]
  },
  {
   "cell_type": "code",
   "execution_count": 60,
   "metadata": {},
   "outputs": [],
   "source": [
    "def baseline_model():\n",
    "    model = Sequential()\n",
    "    model.add(Dense(num_pixels,\n",
    "                    input_dim=num_pixels,\n",
    "                    kernel_initializer='normal',\n",
    "                    activation='relu'                       \n",
    "                   ))\n",
    "    model.add(Dense(num_classes,\n",
    "                   kernel_initializer='normal',\n",
    "                   activation='softmax'))\n",
    "    # Compile model\n",
    "    model.compile(loss='categorical_crossentropy',\n",
    "                 optimizer='adam',\n",
    "                 metrics=['accuracy'])\n",
    "    return model"
   ]
  },
  {
   "cell_type": "code",
   "execution_count": 61,
   "metadata": {},
   "outputs": [],
   "source": [
    "model = baseline_model()"
   ]
  },
  {
   "cell_type": "code",
   "execution_count": 62,
   "metadata": {},
   "outputs": [
    {
     "name": "stdout",
     "output_type": "stream",
     "text": [
      "Epoch 1/25\n",
      "512/512 - 2s - loss: 1.2265 - accuracy: 0.6720 - val_loss: 0.7618 - val_accuracy: 0.7941\n",
      "Epoch 2/25\n",
      "512/512 - 2s - loss: 0.5037 - accuracy: 0.8607 - val_loss: 0.5275 - val_accuracy: 0.8500\n",
      "Epoch 3/25\n",
      "512/512 - 2s - loss: 0.2886 - accuracy: 0.9205 - val_loss: 0.4527 - val_accuracy: 0.8700\n",
      "Epoch 4/25\n",
      "512/512 - 2s - loss: 0.1719 - accuracy: 0.9532 - val_loss: 0.3992 - val_accuracy: 0.8898\n",
      "Epoch 5/25\n",
      "512/512 - 2s - loss: 0.0988 - accuracy: 0.9751 - val_loss: 0.4065 - val_accuracy: 0.8842\n",
      "Epoch 6/25\n",
      "512/512 - 2s - loss: 0.0646 - accuracy: 0.9843 - val_loss: 0.3806 - val_accuracy: 0.8969\n",
      "Epoch 7/25\n",
      "512/512 - 2s - loss: 0.0438 - accuracy: 0.9899 - val_loss: 0.4122 - val_accuracy: 0.8925\n",
      "Epoch 8/25\n",
      "512/512 - 2s - loss: 0.0483 - accuracy: 0.9868 - val_loss: 0.4631 - val_accuracy: 0.8842\n",
      "Epoch 9/25\n",
      "512/512 - 2s - loss: 0.0464 - accuracy: 0.9870 - val_loss: 0.4346 - val_accuracy: 0.8916\n",
      "Epoch 10/25\n",
      "512/512 - 2s - loss: 0.0408 - accuracy: 0.9882 - val_loss: 0.4365 - val_accuracy: 0.8942\n",
      "Epoch 11/25\n",
      "512/512 - 2s - loss: 0.0387 - accuracy: 0.9889 - val_loss: 0.4741 - val_accuracy: 0.8930\n",
      "Epoch 12/25\n",
      "512/512 - 2s - loss: 0.0394 - accuracy: 0.9883 - val_loss: 0.4774 - val_accuracy: 0.8927\n",
      "Epoch 13/25\n",
      "512/512 - 2s - loss: 0.0301 - accuracy: 0.9908 - val_loss: 0.4924 - val_accuracy: 0.8969\n",
      "Epoch 14/25\n",
      "512/512 - 2s - loss: 0.0365 - accuracy: 0.9884 - val_loss: 0.5437 - val_accuracy: 0.8881\n",
      "Epoch 15/25\n",
      "512/512 - 2s - loss: 0.0343 - accuracy: 0.9897 - val_loss: 0.5350 - val_accuracy: 0.8877\n",
      "Epoch 16/25\n",
      "512/512 - 2s - loss: 0.0244 - accuracy: 0.9926 - val_loss: 0.5284 - val_accuracy: 0.8959\n",
      "Epoch 17/25\n",
      "512/512 - 2s - loss: 0.0151 - accuracy: 0.9955 - val_loss: 0.4928 - val_accuracy: 0.9038\n",
      "Epoch 18/25\n",
      "512/512 - 2s - loss: 0.0333 - accuracy: 0.9899 - val_loss: 0.5430 - val_accuracy: 0.8947\n",
      "Epoch 19/25\n",
      "512/512 - 2s - loss: 0.0284 - accuracy: 0.9910 - val_loss: 0.5557 - val_accuracy: 0.8958\n",
      "Epoch 20/25\n",
      "512/512 - 4s - loss: 0.0247 - accuracy: 0.9923 - val_loss: 0.5561 - val_accuracy: 0.8958\n",
      "Epoch 21/25\n",
      "512/512 - 2s - loss: 0.0261 - accuracy: 0.9921 - val_loss: 0.5504 - val_accuracy: 0.9008\n",
      "Epoch 22/25\n",
      "512/512 - 2s - loss: 0.0190 - accuracy: 0.9944 - val_loss: 0.5796 - val_accuracy: 0.9005\n",
      "Epoch 23/25\n",
      "512/512 - 2s - loss: 0.0219 - accuracy: 0.9932 - val_loss: 0.6028 - val_accuracy: 0.8997\n",
      "Epoch 24/25\n",
      "512/512 - 2s - loss: 0.0324 - accuracy: 0.9905 - val_loss: 0.6792 - val_accuracy: 0.8863\n",
      "Epoch 25/25\n",
      "512/512 - 2s - loss: 0.0142 - accuracy: 0.9961 - val_loss: 0.5717 - val_accuracy: 0.9077\n"
     ]
    }
   ],
   "source": [
    "epochs = 25\n",
    "batch_size = 50\n",
    "history = model.fit(X_train.values, y_train, validation_split=0.20, epochs=epochs, batch_size=batch_size, verbose=2)"
   ]
  },
  {
   "cell_type": "code",
   "execution_count": 63,
   "metadata": {},
   "outputs": [
    {
     "name": "stdout",
     "output_type": "stream",
     "text": [
      "Accuracy: 90.66%\n"
     ]
    }
   ],
   "source": [
    "scores = model.evaluate(X_test.values, y_test, verbose=0)\n",
    "print(\"Accuracy: %.2f%%\" % (scores[1]*100))"
   ]
  },
  {
   "cell_type": "code",
   "execution_count": 66,
   "metadata": {},
   "outputs": [
    {
     "data": {
      "image/png": "[encoded data removed]",
      "text/plain": [
       "<Figure size 432x288 with 1 Axes>"
      ]
     },
     "metadata": {
      "needs_background": "light"
     },
     "output_type": "display_data"
    },
    {
     "data": {
      "image/png": "[encoded data removed]",
      "text/plain": [
       "<Figure size 432x288 with 1 Axes>"
      ]
     },
     "metadata": {
      "needs_background": "light"
     },
     "output_type": "display_data"
    }
   ],
   "source": [
    "# summarize history for accuracy\n",
    "plt.plot(history.history['accuracy'])\n",
    "plt.plot(history.history['val_accuracy'])\n",
    "plt.title('model accuracy')\n",
    "plt.ylabel('accuracy')\n",
    "plt.xlabel('epoch')\n",
    "plt.legend(['train', 'validation'], loc='upper left')\n",
    "plt.show()\n",
    "# summarize history for loss\n",
    "plt.plot(history.history['loss'])\n",
    "plt.plot(history.history['val_loss'])\n",
    "plt.title('model loss')\n",
    "plt.ylabel('loss')\n",
    "plt.xlabel('epoch')\n",
    "\n",
    "plt.legend(['train', 'validation'], loc='upper left')\n",
    "plt.show()"
   ]
  },
  {
   "cell_type": "code",
   "execution_count": null,
   "metadata": {},
   "outputs": [],
   "source": []
  }
 ],
 "metadata": {
  "kernelspec": {
   "display_name": "Python 3",
   "language": "python",
   "name": "python3"
  },
  "language_info": {
   "codemirror_mode": {
    "name": "ipython",
    "version": 3
   },
   "file_extension": ".py",
   "mimetype": "text/x-python",
   "name": "python",
   "nbconvert_exporter": "python",
   "pygments_lexer": "ipython3",
   "version": "3.8.3"
  }
 },
 "nbformat": 4,
 "nbformat_minor": 4
}
