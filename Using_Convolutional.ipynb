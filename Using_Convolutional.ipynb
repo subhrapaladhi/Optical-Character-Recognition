{
  "nbformat": 4,
  "nbformat_minor": 0,
  "metadata": {
    "kernelspec": {
      "display_name": "Python 3",
      "language": "python",
      "name": "python3"
    },
    "language_info": {
      "codemirror_mode": {
        "name": "ipython",
        "version": 3
      },
      "file_extension": ".py",
      "mimetype": "text/x-python",
      "name": "python",
      "nbconvert_exporter": "python",
      "pygments_lexer": "ipython3",
      "version": "3.8.3"
    },
    "colab": {
      "name": "Using Convolutional.ipynb",
      "provenance": [],
      "collapsed_sections": []
    },
    "accelerator": "GPU"
  },
  "cells": [
    {
      "cell_type": "code",
      "metadata": {
        "id": "J8AIKRhvZGlS"
      },
      "source": [
        "import pandas as pd\n",
        "import numpy as np\n",
        "import matplotlib.pyplot as plt\n",
        "import seaborn as sns\n",
        "from sklearn.model_selection import train_test_split"
      ],
      "execution_count": null,
      "outputs": []
    },
    {
      "cell_type": "code",
      "metadata": {
        "id": "jaSaIJr4ZGlX"
      },
      "source": [
        "from keras.models import Sequential\n",
        "from keras.layers import Dense\n",
        "from keras.layers import Dropout\n",
        "from keras.layers import Flatten\n",
        "from keras.callbacks import EarlyStopping\n",
        "from keras.layers.convolutional import Conv2D\n",
        "from keras.layers.convolutional import MaxPooling2D\n",
        "from keras.utils import np_utils"
      ],
      "execution_count": null,
      "outputs": []
    },
    {
      "cell_type": "code",
      "metadata": {
        "id": "tK1PIKXUZWGF",
        "outputId": "93e03dac-b799-4907-8760-43909a8f0223",
        "colab": {
          "base_uri": "https://localhost:8080/"
        }
      },
      "source": [
        "from google.colab import drive\n",
        "drive.mount('/content/drive')"
      ],
      "execution_count": null,
      "outputs": [
        {
          "output_type": "stream",
          "text": [
            "Drive already mounted at /content/drive; to attempt to forcibly remount, call drive.mount(\"/content/drive\", force_remount=True).\n"
          ],
          "name": "stdout"
        }
      ]
    },
    {
      "cell_type": "code",
      "metadata": {
        "id": "VoKcjccKZGlb"
      },
      "source": [
        "totaldataset = pd.read_csv(\"drive/My Drive/ocr_data/data.csv\")"
      ],
      "execution_count": null,
      "outputs": []
    },
    {
      "cell_type": "code",
      "metadata": {
        "id": "P9wGUsOXZGlg"
      },
      "source": [
        "import random\n",
        "# Original dataset has 92,000 rows and 1025 cols\n",
        "# selection 92000 rows at random for testing for now\n",
        "a=random.sample(range(0,92000), 92000)\n",
        "dataset=totaldataset.loc[a]"
      ],
      "execution_count": null,
      "outputs": []
    },
    {
      "cell_type": "code",
      "metadata": {
        "id": "lKBdyuk5ZGlk",
        "outputId": "a4c1a550-c72d-487f-9e6b-40e4126bce69",
        "colab": {
          "base_uri": "https://localhost:8080/"
        }
      },
      "source": [
        "dataset.head()"
      ],
      "execution_count": null,
      "outputs": [
        {
          "output_type": "execute_result",
          "data": {
            "text/html": [
              "<div>\n",
              "<style scoped>\n",
              "    .dataframe tbody tr th:only-of-type {\n",
              "        vertical-align: middle;\n",
              "    }\n",
              "\n",
              "    .dataframe tbody tr th {\n",
              "        vertical-align: top;\n",
              "    }\n",
              "\n",
              "    .dataframe thead th {\n",
              "        text-align: right;\n",
              "    }\n",
              "</style>\n",
              "<table border=\"1\" class=\"dataframe\">\n",
              "  <thead>\n",
              "    <tr style=\"text-align: right;\">\n",
              "      <th></th>\n",
              "      <th>pixel_0000</th>\n",
              "      <th>pixel_0001</th>\n",
              "      <th>pixel_0002</th>\n",
              "      <th>pixel_0003</th>\n",
              "      <th>pixel_0004</th>\n",
              "      <th>pixel_0005</th>\n",
              "      <th>pixel_0006</th>\n",
              "      <th>pixel_0007</th>\n",
              "      <th>pixel_0008</th>\n",
              "      <th>pixel_0009</th>\n",
              "      <th>pixel_0010</th>\n",
              "      <th>pixel_0011</th>\n",
              "      <th>pixel_0012</th>\n",
              "      <th>pixel_0013</th>\n",
              "      <th>pixel_0014</th>\n",
              "      <th>pixel_0015</th>\n",
              "      <th>pixel_0016</th>\n",
              "      <th>pixel_0017</th>\n",
              "      <th>pixel_0018</th>\n",
              "      <th>pixel_0019</th>\n",
              "      <th>pixel_0020</th>\n",
              "      <th>pixel_0021</th>\n",
              "      <th>pixel_0022</th>\n",
              "      <th>pixel_0023</th>\n",
              "      <th>pixel_0024</th>\n",
              "      <th>pixel_0025</th>\n",
              "      <th>pixel_0026</th>\n",
              "      <th>pixel_0027</th>\n",
              "      <th>pixel_0028</th>\n",
              "      <th>pixel_0029</th>\n",
              "      <th>pixel_0030</th>\n",
              "      <th>pixel_0031</th>\n",
              "      <th>pixel_0032</th>\n",
              "      <th>pixel_0033</th>\n",
              "      <th>pixel_0034</th>\n",
              "      <th>pixel_0035</th>\n",
              "      <th>pixel_0036</th>\n",
              "      <th>pixel_0037</th>\n",
              "      <th>pixel_0038</th>\n",
              "      <th>pixel_0039</th>\n",
              "      <th>...</th>\n",
              "      <th>pixel_0985</th>\n",
              "      <th>pixel_0986</th>\n",
              "      <th>pixel_0987</th>\n",
              "      <th>pixel_0988</th>\n",
              "      <th>pixel_0989</th>\n",
              "      <th>pixel_0990</th>\n",
              "      <th>pixel_0991</th>\n",
              "      <th>pixel_0992</th>\n",
              "      <th>pixel_0993</th>\n",
              "      <th>pixel_0994</th>\n",
              "      <th>pixel_0995</th>\n",
              "      <th>pixel_0996</th>\n",
              "      <th>pixel_0997</th>\n",
              "      <th>pixel_0998</th>\n",
              "      <th>pixel_0999</th>\n",
              "      <th>pixel_1000</th>\n",
              "      <th>pixel_1001</th>\n",
              "      <th>pixel_1002</th>\n",
              "      <th>pixel_1003</th>\n",
              "      <th>pixel_1004</th>\n",
              "      <th>pixel_1005</th>\n",
              "      <th>pixel_1006</th>\n",
              "      <th>pixel_1007</th>\n",
              "      <th>pixel_1008</th>\n",
              "      <th>pixel_1009</th>\n",
              "      <th>pixel_1010</th>\n",
              "      <th>pixel_1011</th>\n",
              "      <th>pixel_1012</th>\n",
              "      <th>pixel_1013</th>\n",
              "      <th>pixel_1014</th>\n",
              "      <th>pixel_1015</th>\n",
              "      <th>pixel_1016</th>\n",
              "      <th>pixel_1017</th>\n",
              "      <th>pixel_1018</th>\n",
              "      <th>pixel_1019</th>\n",
              "      <th>pixel_1020</th>\n",
              "      <th>pixel_1021</th>\n",
              "      <th>pixel_1022</th>\n",
              "      <th>pixel_1023</th>\n",
              "      <th>character</th>\n",
              "    </tr>\n",
              "  </thead>\n",
              "  <tbody>\n",
              "    <tr>\n",
              "      <th>3732</th>\n",
              "      <td>0</td>\n",
              "      <td>0</td>\n",
              "      <td>0</td>\n",
              "      <td>0</td>\n",
              "      <td>0</td>\n",
              "      <td>0</td>\n",
              "      <td>0</td>\n",
              "      <td>0</td>\n",
              "      <td>0</td>\n",
              "      <td>0</td>\n",
              "      <td>0</td>\n",
              "      <td>0</td>\n",
              "      <td>0</td>\n",
              "      <td>0</td>\n",
              "      <td>0</td>\n",
              "      <td>0</td>\n",
              "      <td>0</td>\n",
              "      <td>0</td>\n",
              "      <td>0</td>\n",
              "      <td>0</td>\n",
              "      <td>0</td>\n",
              "      <td>0</td>\n",
              "      <td>0</td>\n",
              "      <td>0</td>\n",
              "      <td>0</td>\n",
              "      <td>0</td>\n",
              "      <td>0</td>\n",
              "      <td>0</td>\n",
              "      <td>0</td>\n",
              "      <td>0</td>\n",
              "      <td>0</td>\n",
              "      <td>0</td>\n",
              "      <td>0</td>\n",
              "      <td>0</td>\n",
              "      <td>0</td>\n",
              "      <td>0</td>\n",
              "      <td>0</td>\n",
              "      <td>0</td>\n",
              "      <td>0</td>\n",
              "      <td>0</td>\n",
              "      <td>...</td>\n",
              "      <td>0</td>\n",
              "      <td>0</td>\n",
              "      <td>0</td>\n",
              "      <td>0</td>\n",
              "      <td>0</td>\n",
              "      <td>0</td>\n",
              "      <td>0</td>\n",
              "      <td>0</td>\n",
              "      <td>0</td>\n",
              "      <td>0</td>\n",
              "      <td>0</td>\n",
              "      <td>0</td>\n",
              "      <td>0</td>\n",
              "      <td>0</td>\n",
              "      <td>0</td>\n",
              "      <td>0</td>\n",
              "      <td>0</td>\n",
              "      <td>0</td>\n",
              "      <td>0</td>\n",
              "      <td>0</td>\n",
              "      <td>0</td>\n",
              "      <td>0</td>\n",
              "      <td>0</td>\n",
              "      <td>0</td>\n",
              "      <td>0</td>\n",
              "      <td>0</td>\n",
              "      <td>0</td>\n",
              "      <td>0</td>\n",
              "      <td>0</td>\n",
              "      <td>0</td>\n",
              "      <td>0</td>\n",
              "      <td>0</td>\n",
              "      <td>0</td>\n",
              "      <td>0</td>\n",
              "      <td>0</td>\n",
              "      <td>0</td>\n",
              "      <td>0</td>\n",
              "      <td>0</td>\n",
              "      <td>0</td>\n",
              "      <td>character_02_kha</td>\n",
              "    </tr>\n",
              "    <tr>\n",
              "      <th>56264</th>\n",
              "      <td>0</td>\n",
              "      <td>0</td>\n",
              "      <td>0</td>\n",
              "      <td>0</td>\n",
              "      <td>0</td>\n",
              "      <td>0</td>\n",
              "      <td>0</td>\n",
              "      <td>0</td>\n",
              "      <td>0</td>\n",
              "      <td>0</td>\n",
              "      <td>0</td>\n",
              "      <td>0</td>\n",
              "      <td>0</td>\n",
              "      <td>0</td>\n",
              "      <td>0</td>\n",
              "      <td>0</td>\n",
              "      <td>0</td>\n",
              "      <td>0</td>\n",
              "      <td>0</td>\n",
              "      <td>0</td>\n",
              "      <td>0</td>\n",
              "      <td>0</td>\n",
              "      <td>0</td>\n",
              "      <td>0</td>\n",
              "      <td>0</td>\n",
              "      <td>0</td>\n",
              "      <td>0</td>\n",
              "      <td>0</td>\n",
              "      <td>0</td>\n",
              "      <td>0</td>\n",
              "      <td>0</td>\n",
              "      <td>0</td>\n",
              "      <td>0</td>\n",
              "      <td>0</td>\n",
              "      <td>0</td>\n",
              "      <td>0</td>\n",
              "      <td>0</td>\n",
              "      <td>0</td>\n",
              "      <td>0</td>\n",
              "      <td>0</td>\n",
              "      <td>...</td>\n",
              "      <td>0</td>\n",
              "      <td>0</td>\n",
              "      <td>0</td>\n",
              "      <td>0</td>\n",
              "      <td>0</td>\n",
              "      <td>0</td>\n",
              "      <td>0</td>\n",
              "      <td>0</td>\n",
              "      <td>0</td>\n",
              "      <td>0</td>\n",
              "      <td>0</td>\n",
              "      <td>0</td>\n",
              "      <td>0</td>\n",
              "      <td>0</td>\n",
              "      <td>0</td>\n",
              "      <td>0</td>\n",
              "      <td>0</td>\n",
              "      <td>0</td>\n",
              "      <td>0</td>\n",
              "      <td>0</td>\n",
              "      <td>0</td>\n",
              "      <td>0</td>\n",
              "      <td>0</td>\n",
              "      <td>0</td>\n",
              "      <td>0</td>\n",
              "      <td>0</td>\n",
              "      <td>0</td>\n",
              "      <td>0</td>\n",
              "      <td>0</td>\n",
              "      <td>0</td>\n",
              "      <td>0</td>\n",
              "      <td>0</td>\n",
              "      <td>0</td>\n",
              "      <td>0</td>\n",
              "      <td>0</td>\n",
              "      <td>0</td>\n",
              "      <td>0</td>\n",
              "      <td>0</td>\n",
              "      <td>0</td>\n",
              "      <td>character_29_waw</td>\n",
              "    </tr>\n",
              "    <tr>\n",
              "      <th>32199</th>\n",
              "      <td>0</td>\n",
              "      <td>0</td>\n",
              "      <td>0</td>\n",
              "      <td>0</td>\n",
              "      <td>0</td>\n",
              "      <td>0</td>\n",
              "      <td>0</td>\n",
              "      <td>0</td>\n",
              "      <td>0</td>\n",
              "      <td>0</td>\n",
              "      <td>0</td>\n",
              "      <td>0</td>\n",
              "      <td>0</td>\n",
              "      <td>0</td>\n",
              "      <td>0</td>\n",
              "      <td>0</td>\n",
              "      <td>0</td>\n",
              "      <td>0</td>\n",
              "      <td>0</td>\n",
              "      <td>0</td>\n",
              "      <td>0</td>\n",
              "      <td>0</td>\n",
              "      <td>0</td>\n",
              "      <td>0</td>\n",
              "      <td>0</td>\n",
              "      <td>0</td>\n",
              "      <td>0</td>\n",
              "      <td>0</td>\n",
              "      <td>0</td>\n",
              "      <td>0</td>\n",
              "      <td>0</td>\n",
              "      <td>0</td>\n",
              "      <td>0</td>\n",
              "      <td>0</td>\n",
              "      <td>0</td>\n",
              "      <td>0</td>\n",
              "      <td>0</td>\n",
              "      <td>0</td>\n",
              "      <td>0</td>\n",
              "      <td>0</td>\n",
              "      <td>...</td>\n",
              "      <td>0</td>\n",
              "      <td>0</td>\n",
              "      <td>0</td>\n",
              "      <td>0</td>\n",
              "      <td>0</td>\n",
              "      <td>0</td>\n",
              "      <td>0</td>\n",
              "      <td>0</td>\n",
              "      <td>0</td>\n",
              "      <td>0</td>\n",
              "      <td>0</td>\n",
              "      <td>0</td>\n",
              "      <td>0</td>\n",
              "      <td>0</td>\n",
              "      <td>0</td>\n",
              "      <td>0</td>\n",
              "      <td>0</td>\n",
              "      <td>0</td>\n",
              "      <td>0</td>\n",
              "      <td>0</td>\n",
              "      <td>0</td>\n",
              "      <td>0</td>\n",
              "      <td>0</td>\n",
              "      <td>0</td>\n",
              "      <td>0</td>\n",
              "      <td>0</td>\n",
              "      <td>0</td>\n",
              "      <td>0</td>\n",
              "      <td>0</td>\n",
              "      <td>0</td>\n",
              "      <td>0</td>\n",
              "      <td>0</td>\n",
              "      <td>0</td>\n",
              "      <td>0</td>\n",
              "      <td>0</td>\n",
              "      <td>0</td>\n",
              "      <td>0</td>\n",
              "      <td>0</td>\n",
              "      <td>0</td>\n",
              "      <td>character_17_tha</td>\n",
              "    </tr>\n",
              "    <tr>\n",
              "      <th>49748</th>\n",
              "      <td>0</td>\n",
              "      <td>0</td>\n",
              "      <td>0</td>\n",
              "      <td>0</td>\n",
              "      <td>0</td>\n",
              "      <td>0</td>\n",
              "      <td>0</td>\n",
              "      <td>0</td>\n",
              "      <td>0</td>\n",
              "      <td>0</td>\n",
              "      <td>0</td>\n",
              "      <td>0</td>\n",
              "      <td>0</td>\n",
              "      <td>0</td>\n",
              "      <td>0</td>\n",
              "      <td>0</td>\n",
              "      <td>0</td>\n",
              "      <td>0</td>\n",
              "      <td>0</td>\n",
              "      <td>0</td>\n",
              "      <td>0</td>\n",
              "      <td>0</td>\n",
              "      <td>0</td>\n",
              "      <td>0</td>\n",
              "      <td>0</td>\n",
              "      <td>0</td>\n",
              "      <td>0</td>\n",
              "      <td>0</td>\n",
              "      <td>0</td>\n",
              "      <td>0</td>\n",
              "      <td>0</td>\n",
              "      <td>0</td>\n",
              "      <td>0</td>\n",
              "      <td>0</td>\n",
              "      <td>0</td>\n",
              "      <td>0</td>\n",
              "      <td>0</td>\n",
              "      <td>0</td>\n",
              "      <td>0</td>\n",
              "      <td>0</td>\n",
              "      <td>...</td>\n",
              "      <td>0</td>\n",
              "      <td>0</td>\n",
              "      <td>0</td>\n",
              "      <td>0</td>\n",
              "      <td>0</td>\n",
              "      <td>0</td>\n",
              "      <td>0</td>\n",
              "      <td>0</td>\n",
              "      <td>0</td>\n",
              "      <td>0</td>\n",
              "      <td>0</td>\n",
              "      <td>0</td>\n",
              "      <td>0</td>\n",
              "      <td>0</td>\n",
              "      <td>0</td>\n",
              "      <td>0</td>\n",
              "      <td>0</td>\n",
              "      <td>0</td>\n",
              "      <td>0</td>\n",
              "      <td>0</td>\n",
              "      <td>0</td>\n",
              "      <td>0</td>\n",
              "      <td>0</td>\n",
              "      <td>0</td>\n",
              "      <td>0</td>\n",
              "      <td>0</td>\n",
              "      <td>0</td>\n",
              "      <td>0</td>\n",
              "      <td>0</td>\n",
              "      <td>0</td>\n",
              "      <td>0</td>\n",
              "      <td>0</td>\n",
              "      <td>0</td>\n",
              "      <td>0</td>\n",
              "      <td>0</td>\n",
              "      <td>0</td>\n",
              "      <td>0</td>\n",
              "      <td>0</td>\n",
              "      <td>0</td>\n",
              "      <td>character_25_ma</td>\n",
              "    </tr>\n",
              "    <tr>\n",
              "      <th>71341</th>\n",
              "      <td>0</td>\n",
              "      <td>0</td>\n",
              "      <td>0</td>\n",
              "      <td>0</td>\n",
              "      <td>0</td>\n",
              "      <td>0</td>\n",
              "      <td>0</td>\n",
              "      <td>0</td>\n",
              "      <td>0</td>\n",
              "      <td>0</td>\n",
              "      <td>0</td>\n",
              "      <td>0</td>\n",
              "      <td>0</td>\n",
              "      <td>0</td>\n",
              "      <td>0</td>\n",
              "      <td>0</td>\n",
              "      <td>0</td>\n",
              "      <td>0</td>\n",
              "      <td>0</td>\n",
              "      <td>0</td>\n",
              "      <td>0</td>\n",
              "      <td>0</td>\n",
              "      <td>0</td>\n",
              "      <td>0</td>\n",
              "      <td>0</td>\n",
              "      <td>0</td>\n",
              "      <td>0</td>\n",
              "      <td>0</td>\n",
              "      <td>0</td>\n",
              "      <td>0</td>\n",
              "      <td>0</td>\n",
              "      <td>0</td>\n",
              "      <td>0</td>\n",
              "      <td>0</td>\n",
              "      <td>0</td>\n",
              "      <td>0</td>\n",
              "      <td>0</td>\n",
              "      <td>0</td>\n",
              "      <td>0</td>\n",
              "      <td>0</td>\n",
              "      <td>...</td>\n",
              "      <td>0</td>\n",
              "      <td>0</td>\n",
              "      <td>0</td>\n",
              "      <td>0</td>\n",
              "      <td>0</td>\n",
              "      <td>0</td>\n",
              "      <td>0</td>\n",
              "      <td>0</td>\n",
              "      <td>0</td>\n",
              "      <td>0</td>\n",
              "      <td>0</td>\n",
              "      <td>0</td>\n",
              "      <td>0</td>\n",
              "      <td>0</td>\n",
              "      <td>0</td>\n",
              "      <td>0</td>\n",
              "      <td>0</td>\n",
              "      <td>0</td>\n",
              "      <td>0</td>\n",
              "      <td>0</td>\n",
              "      <td>0</td>\n",
              "      <td>0</td>\n",
              "      <td>0</td>\n",
              "      <td>0</td>\n",
              "      <td>0</td>\n",
              "      <td>0</td>\n",
              "      <td>0</td>\n",
              "      <td>0</td>\n",
              "      <td>0</td>\n",
              "      <td>0</td>\n",
              "      <td>0</td>\n",
              "      <td>0</td>\n",
              "      <td>0</td>\n",
              "      <td>0</td>\n",
              "      <td>0</td>\n",
              "      <td>0</td>\n",
              "      <td>0</td>\n",
              "      <td>0</td>\n",
              "      <td>0</td>\n",
              "      <td>character_36_gya</td>\n",
              "    </tr>\n",
              "  </tbody>\n",
              "</table>\n",
              "<p>5 rows × 1025 columns</p>\n",
              "</div>"
            ],
            "text/plain": [
              "       pixel_0000  pixel_0001  ...  pixel_1023         character\n",
              "3732            0           0  ...           0  character_02_kha\n",
              "56264           0           0  ...           0  character_29_waw\n",
              "32199           0           0  ...           0  character_17_tha\n",
              "49748           0           0  ...           0   character_25_ma\n",
              "71341           0           0  ...           0  character_36_gya\n",
              "\n",
              "[5 rows x 1025 columns]"
            ]
          },
          "metadata": {
            "tags": []
          },
          "execution_count": 16
        }
      ]
    },
    {
      "cell_type": "code",
      "metadata": {
        "id": "VWN_E827ZGlp"
      },
      "source": [
        "X = dataset.iloc[:,:-1]\n",
        "y = dataset.iloc[:,-1]"
      ],
      "execution_count": null,
      "outputs": []
    },
    {
      "cell_type": "code",
      "metadata": {
        "id": "0TSQURL4ZGlt"
      },
      "source": [
        "num_pixels = X.shape[1]\n",
        "# 46 characters, consonants \"ka\" to \"gya\", and the digits 0 to 9\n",
        "num_classes = 46\n",
        "img_width = 32\n",
        "img_height = 32\n",
        "img_depth = 1"
      ],
      "execution_count": null,
      "outputs": []
    },
    {
      "cell_type": "code",
      "metadata": {
        "id": "YAy5JTsHZGly"
      },
      "source": [
        "X_images = X.values.reshape(X.shape[0],img_width,img_height)"
      ],
      "execution_count": null,
      "outputs": []
    },
    {
      "cell_type": "code",
      "metadata": {
        "id": "_2G0p727ZGl2",
        "outputId": "28d71ff2-b583-4643-ea50-92fc09da0afc",
        "colab": {
          "base_uri": "https://localhost:8080/"
        }
      },
      "source": [
        "for i in range(1,9):\n",
        "    plt.subplot(240+i)\n",
        "    plt.axis('off')\n",
        "    plt.imshow(X_images[i-1],cmap=plt.get_cmap('gray'))\n",
        "plt.show()"
      ],
      "execution_count": null,
      "outputs": [
        {
          "output_type": "display_data",
          "data": {
            "image/png": "[encoded data removed]",
            "text/plain": [
              "<Figure size 432x288 with 8 Axes>"
            ]
          },
          "metadata": {
            "tags": [],
            "needs_background": "light"
          }
        }
      ]
    },
    {
      "cell_type": "code",
      "metadata": {
        "id": "UbIOb2agZGmE"
      },
      "source": [
        "# output in binary format\n",
        "from sklearn.preprocessing import LabelBinarizer\n",
        "binecoder = LabelBinarizer()\n",
        "Y = binecoder.fit_transform(y)"
      ],
      "execution_count": null,
      "outputs": []
    },
    {
      "cell_type": "code",
      "metadata": {
        "id": "FYvp-1VcZGmJ"
      },
      "source": [
        "seed = 123 \n",
        "X_train, X_test, y_train, y_test = train_test_split(X_images, Y, test_size=0.20, random_state=seed)\n",
        "\n",
        "X_train = X_train/255\n",
        "X_test = X_test/255"
      ],
      "execution_count": null,
      "outputs": []
    },
    {
      "cell_type": "code",
      "metadata": {
        "id": "kjZSwFHhZGmM"
      },
      "source": [
        "X_train = X_train.reshape(X_train.shape[0], img_width, img_height, img_depth).astype('float32')\n",
        "X_test = X_test.reshape(X_test.shape[0], img_width, img_height, img_depth).astype('float32')"
      ],
      "execution_count": null,
      "outputs": []
    },
    {
      "cell_type": "code",
      "metadata": {
        "id": "plgpnoWCZGmP"
      },
      "source": [
        "def cnn_model():\n",
        "    model = Sequential()\n",
        "    # 4,4 is the filter size\n",
        "    model.add(Conv2D(32, (4, 4), input_shape=(img_height, img_width, img_depth), activation='relu', name=\"conv_1\"))\n",
        "    model.add(MaxPooling2D(pool_size=(2, 2), name=\"pool_1\"))\n",
        "    model.add(Conv2D(64, (3, 3), activation='relu', name=\"conv_2\"))\n",
        "    model.add(MaxPooling2D(pool_size=(2, 2), name=\"pool_2\"))\n",
        "    model.add(Dropout(0.2))\n",
        "\n",
        "    # convolution gives 2-D data as output where as Dense layer needs 1-D data that's why we need to flatedn it\n",
        "    model.add(Flatten())\n",
        "    model.add(Dense(128, activation='relu', name=\"dense_1\"))\n",
        "    model.add(Dense(64, activation='relu', name=\"dense_2\"))\n",
        "    model.add(Dropout(0.2))\n",
        "    model.add(Dense(32, activation='relu', name=\"dense_3\"))\n",
        "    # output layer\n",
        "    model.add(Dense(num_classes, activation='softmax', name=\"model_output\"))\n",
        "    \n",
        "    model.compile(loss='categorical_crossentropy', optimizer='adam', metrics=['accuracy'])\n",
        "    return model"
      ],
      "execution_count": null,
      "outputs": []
    },
    {
      "cell_type": "code",
      "metadata": {
        "id": "XFvJFF_9ZGmS",
        "outputId": "3591260a-bf70-4f04-8081-922ec1821c36",
        "colab": {
          "base_uri": "https://localhost:8080/"
        }
      },
      "source": [
        "model = cnn_model()\n",
        "model.summary()"
      ],
      "execution_count": null,
      "outputs": [
        {
          "output_type": "stream",
          "text": [
            "Model: \"sequential\"\n",
            "_________________________________________________________________\n",
            "Layer (type)                 Output Shape              Param #   \n",
            "=================================================================\n",
            "conv_1 (Conv2D)              (None, 29, 29, 32)        544       \n",
            "_________________________________________________________________\n",
            "pool_1 (MaxPooling2D)        (None, 14, 14, 32)        0         \n",
            "_________________________________________________________________\n",
            "conv_2 (Conv2D)              (None, 12, 12, 64)        18496     \n",
            "_________________________________________________________________\n",
            "pool_2 (MaxPooling2D)        (None, 6, 6, 64)          0         \n",
            "_________________________________________________________________\n",
            "dropout (Dropout)            (None, 6, 6, 64)          0         \n",
            "_________________________________________________________________\n",
            "flatten (Flatten)            (None, 2304)              0         \n",
            "_________________________________________________________________\n",
            "dense_1 (Dense)              (None, 128)               295040    \n",
            "_________________________________________________________________\n",
            "dense_2 (Dense)              (None, 64)                8256      \n",
            "_________________________________________________________________\n",
            "dropout_1 (Dropout)          (None, 64)                0         \n",
            "_________________________________________________________________\n",
            "dense_3 (Dense)              (None, 32)                2080      \n",
            "_________________________________________________________________\n",
            "model_output (Dense)         (None, 46)                1518      \n",
            "=================================================================\n",
            "Total params: 325,934\n",
            "Trainable params: 325,934\n",
            "Non-trainable params: 0\n",
            "_________________________________________________________________\n"
          ],
          "name": "stdout"
        }
      ]
    },
    {
      "cell_type": "code",
      "metadata": {
        "id": "49OXsGe3ZGmW",
        "outputId": "6a7dcb95-bff3-45f6-f183-223531cb7dce",
        "colab": {
          "base_uri": "https://localhost:8080/"
        }
      },
      "source": [
        "early_stopping_monitor = EarlyStopping(patience=2)\n",
        "\n",
        "epochs = 10\n",
        "batch_size = 25\n",
        "history = model.fit(X_train, y_train, validation_split=0.20, epochs=epochs, batch_size=batch_size, callbacks=[early_stopping_monitor], verbose=2)"
      ],
      "execution_count": null,
      "outputs": [
        {
          "output_type": "stream",
          "text": [
            "Epoch 1/10\n",
            "2356/2356 - 8s - loss: 1.0982 - accuracy: 0.6886 - val_loss: 0.3414 - val_accuracy: 0.8979\n",
            "Epoch 2/10\n",
            "2356/2356 - 9s - loss: 0.3397 - accuracy: 0.8967 - val_loss: 0.2096 - val_accuracy: 0.9389\n",
            "Epoch 3/10\n",
            "2356/2356 - 8s - loss: 0.2267 - accuracy: 0.9318 - val_loss: 0.1520 - val_accuracy: 0.9561\n",
            "Epoch 4/10\n",
            "2356/2356 - 8s - loss: 0.1722 - accuracy: 0.9473 - val_loss: 0.1409 - val_accuracy: 0.9601\n",
            "Epoch 5/10\n",
            "2356/2356 - 8s - loss: 0.1397 - accuracy: 0.9565 - val_loss: 0.1219 - val_accuracy: 0.9668\n",
            "Epoch 6/10\n",
            "2356/2356 - 7s - loss: 0.1192 - accuracy: 0.9636 - val_loss: 0.1241 - val_accuracy: 0.9639\n",
            "Epoch 7/10\n",
            "2356/2356 - 8s - loss: 0.1004 - accuracy: 0.9683 - val_loss: 0.1239 - val_accuracy: 0.9677\n"
          ],
          "name": "stdout"
        }
      ]
    },
    {
      "cell_type": "code",
      "metadata": {
        "id": "iaCiUYeTZGmZ",
        "outputId": "7dd1bdb1-0189-4d04-d636-63d2736511b4",
        "colab": {
          "base_uri": "https://localhost:8080/"
        }
      },
      "source": [
        "scores = model.evaluate(X_test, y_test, verbose=0)\n",
        "print(\"Accuracy: %.2f%%\" % (scores[1]*100))"
      ],
      "execution_count": null,
      "outputs": [
        {
          "output_type": "stream",
          "text": [
            "Accuracy: 96.68%\n"
          ],
          "name": "stdout"
        }
      ]
    },
    {
      "cell_type": "code",
      "metadata": {
        "id": "SfIbmHXVZGmj"
      },
      "source": [
        "predictions = model.predict(X_test)"
      ],
      "execution_count": null,
      "outputs": []
    },
    {
      "cell_type": "code",
      "metadata": {
        "id": "rBAR_WcaZGmm",
        "outputId": "a3cde973-ed04-4d0d-fe34-b37c0d39473f",
        "colab": {
          "base_uri": "https://localhost:8080/"
        }
      },
      "source": [
        "test_img = X_test.reshape(X_test.shape[0],img_width,img_height)\n",
        "plt.imshow(test_img[0],cmap=plt.get_cmap('gray'))"
      ],
      "execution_count": null,
      "outputs": [
        {
          "output_type": "execute_result",
          "data": {
            "text/plain": [
              "<matplotlib.image.AxesImage at 0x7f0bf1af3390>"
            ]
          },
          "metadata": {
            "tags": []
          },
          "execution_count": 29
        },
        {
          "output_type": "display_data",
          "data": {
            "image/png": "[encoded data removed]",
            "text/plain": [
              "<Figure size 432x288 with 1 Axes>"
            ]
          },
          "metadata": {
            "tags": [],
            "needs_background": "light"
          }
        }
      ]
    },
    {
      "cell_type": "code",
      "metadata": {
        "id": "fYADeTiDZGmp",
        "outputId": "5578d66e-ccbc-450f-aebb-321cba9471d8",
        "colab": {
          "base_uri": "https://localhost:8080/"
        }
      },
      "source": [
        "np.argmax(y_test[0])"
      ],
      "execution_count": null,
      "outputs": [
        {
          "output_type": "execute_result",
          "data": {
            "text/plain": [
              "18"
            ]
          },
          "metadata": {
            "tags": []
          },
          "execution_count": 30
        }
      ]
    },
    {
      "cell_type": "code",
      "metadata": {
        "id": "AwqPg1oZZGmt",
        "outputId": "689f28e2-b222-413b-d04e-b1bb78c0f496",
        "colab": {
          "base_uri": "https://localhost:8080/"
        }
      },
      "source": [
        "np.argmax(predictions[0])"
      ],
      "execution_count": null,
      "outputs": [
        {
          "output_type": "execute_result",
          "data": {
            "text/plain": [
              "18"
            ]
          },
          "metadata": {
            "tags": []
          },
          "execution_count": 31
        }
      ]
    },
    {
      "cell_type": "code",
      "metadata": {
        "id": "LuryFp9aalF0",
        "outputId": "c008ee77-f295-4d96-dcd6-fd6b9313919e",
        "colab": {
          "base_uri": "https://localhost:8080/",
          "height": 71
        }
      },
      "source": [
        "test_img = X_test.reshape(X_test.shape[0],img_width,img_height)\n",
        "plt.imshow(test_img[10],cmap=plt.get_cmap('gray'))"
      ],
      "execution_count": null,
      "outputs": [
        {
          "output_type": "execute_result",
          "data": {
            "text/plain": [
              "<matplotlib.image.AxesImage at 0x7f0bf1a25198>"
            ]
          },
          "metadata": {
            "tags": []
          },
          "execution_count": 32
        },
        {
          "output_type": "display_data",
          "data": {
            "image/png": "[encoded data removed]",
            "text/plain": [
              "<Figure size 432x288 with 1 Axes>"
            ]
          },
          "metadata": {
            "tags": [],
            "needs_background": "light"
          }
        }
      ]
    },
    {
      "cell_type": "code",
      "metadata": {
        "id": "-FUZInqqaswx",
        "outputId": "4e8a82cb-c01d-4126-b398-ed8abf2e1959",
        "colab": {
          "base_uri": "https://localhost:8080/"
        }
      },
      "source": [
        "np.argmax(y_test[10])"
      ],
      "execution_count": null,
      "outputs": [
        {
          "output_type": "execute_result",
          "data": {
            "text/plain": [
              "31"
            ]
          },
          "metadata": {
            "tags": []
          },
          "execution_count": 33
        }
      ]
    },
    {
      "cell_type": "code",
      "metadata": {
        "id": "zPrMu2mTatoy",
        "outputId": "58534f0c-72d9-4ab1-b347-87c3ab8e596c",
        "colab": {
          "base_uri": "https://localhost:8080/"
        }
      },
      "source": [
        "np.argmax(predictions[10])"
      ],
      "execution_count": null,
      "outputs": [
        {
          "output_type": "execute_result",
          "data": {
            "text/plain": [
              "31"
            ]
          },
          "metadata": {
            "tags": []
          },
          "execution_count": 34
        }
      ]
    },
    {
      "cell_type": "code",
      "metadata": {
        "id": "YaIJNkSGE4Js",
        "outputId": "b52ec597-9d0e-4351-b9ad-20ead1ac8c59",
        "colab": {
          "base_uri": "https://localhost:8080/",
          "height": 573
        }
      },
      "source": [
        "# summarize history for accuracy\n",
        "plt.plot(history.history['accuracy'])\n",
        "plt.plot(history.history['val_accuracy'])\n",
        "plt.title('model accuracy')\n",
        "plt.ylabel('accuracy')\n",
        "plt.xlabel('epoch')\n",
        "plt.legend(['train', 'validation'], loc='upper left')\n",
        "plt.show()\n",
        "# summarize history for loss\n",
        "plt.plot(history.history['loss'])\n",
        "plt.plot(history.history['val_loss'])\n",
        "plt.title('model loss')\n",
        "plt.ylabel('loss')\n",
        "plt.xlabel('epoch')\n",
        "\n",
        "plt.legend(['train', 'validation'], loc='upper left')\n",
        "plt.show()"
      ],
      "execution_count": null,
      "outputs": [
        {
          "output_type": "display_data",
          "data": {
            "image/png": "[encoded data removed]",
            "text/plain": [
              "<Figure size 432x288 with 1 Axes>"
            ]
          },
          "metadata": {
            "tags": [],
            "needs_background": "light"
          }
        },
        {
          "output_type": "display_data",
          "data": {
            "image/png": "[encoded data removed]",
            "text/plain": [
              "<Figure size 432x288 with 1 Axes>"
            ]
          },
          "metadata": {
            "tags": [],
            "needs_background": "light"
          }
        }
      ]
    },
    {
      "cell_type": "code",
      "metadata": {
        "id": "-jZAfuktLE6o"
      },
      "source": [
        "from sklearn.metrics import confusion_matrix, classification_report\n",
        "import tensorflow as tf"
      ],
      "execution_count": null,
      "outputs": []
    },
    {
      "cell_type": "code",
      "metadata": {
        "id": "E1icN5eLLGpl"
      },
      "source": [
        "predicted_labels = [np.argmax(i) for i in predictions]\n",
        "y_test_labels = [np.argmax(i) for i in y_test]\n",
        "\n",
        "confusoinMatrix = tf.math.confusion_matrix(labels=y_test_labels, predictions=predicted_labels)"
      ],
      "execution_count": null,
      "outputs": []
    },
    {
      "cell_type": "code",
      "metadata": {
        "id": "J8kCL33e8xvd",
        "outputId": "b461aa79-26cc-4b21-a8c2-561c81860ba7",
        "colab": {
          "base_uri": "https://localhost:8080/"
        }
      },
      "source": [
        "print(classification_report(y_test_labels,predicted_labels))"
      ],
      "execution_count": null,
      "outputs": [
        {
          "output_type": "stream",
          "text": [
            "              precision    recall  f1-score   support\n",
            "\n",
            "           0       0.99      0.98      0.99       418\n",
            "           1       0.97      0.97      0.97       429\n",
            "           2       0.98      0.98      0.98       417\n",
            "           3       0.96      0.88      0.91       417\n",
            "           4       0.95      0.95      0.95       406\n",
            "           5       0.97      0.99      0.98       392\n",
            "           6       0.94      0.98      0.96       392\n",
            "           7       0.99      0.93      0.96       376\n",
            "           8       0.99      0.98      0.98       381\n",
            "           9       0.94      0.99      0.97       404\n",
            "          10       0.97      0.95      0.96       388\n",
            "          11       0.98      0.96      0.97       403\n",
            "          12       0.96      0.95      0.95       388\n",
            "          13       0.95      0.97      0.96       393\n",
            "          14       0.99      0.98      0.98       363\n",
            "          15       0.96      0.98      0.97       376\n",
            "          16       0.97      0.80      0.88       388\n",
            "          17       0.95      0.96      0.95       409\n",
            "          18       0.81      0.98      0.89       444\n",
            "          19       0.95      0.96      0.96       425\n",
            "          20       0.94      0.98      0.96       399\n",
            "          21       0.98      0.99      0.99       358\n",
            "          22       0.95      0.97      0.96       418\n",
            "          23       0.98      0.93      0.96       403\n",
            "          24       0.94      0.97      0.95       402\n",
            "          25       0.98      0.92      0.95       384\n",
            "          26       0.99      0.97      0.98       431\n",
            "          27       0.99      0.96      0.98       392\n",
            "          28       0.97      0.92      0.94       364\n",
            "          29       0.99      0.96      0.97       389\n",
            "          30       0.97      0.98      0.97       376\n",
            "          31       0.97      0.96      0.96       414\n",
            "          32       0.96      0.98      0.97       400\n",
            "          33       0.96      0.98      0.97       414\n",
            "          34       0.99      0.95      0.97       395\n",
            "          35       0.93      0.99      0.96       391\n",
            "          36       1.00      0.98      0.99       414\n",
            "          37       1.00      0.99      0.99       376\n",
            "          38       0.99      0.99      0.99       411\n",
            "          39       0.99      0.99      0.99       407\n",
            "          40       0.98      0.99      0.99       419\n",
            "          41       0.97      0.99      0.98       413\n",
            "          42       0.98      0.99      0.99       414\n",
            "          43       0.99      0.99      0.99       387\n",
            "          44       0.98      0.99      0.99       409\n",
            "          45       0.99      1.00      0.99       411\n",
            "\n",
            "    accuracy                           0.97     18400\n",
            "   macro avg       0.97      0.97      0.97     18400\n",
            "weighted avg       0.97      0.97      0.97     18400\n",
            "\n"
          ],
          "name": "stdout"
        }
      ]
    },
    {
      "cell_type": "code",
      "metadata": {
        "id": "aHQqJyv4Lzky",
        "outputId": "f9c4d5e3-595c-4c64-c56a-147c2adbcb71",
        "colab": {
          "base_uri": "https://localhost:8080/"
        }
      },
      "source": [
        "import seaborn as sns\n",
        "plt.figure(figsize=(20,12))\n",
        "sns.heatmap(confusoinMatrix, annot=True, fmt='d')\n",
        "plt.xlabel('Predicted')\n",
        "plt.ylabel('Real Values')"
      ],
      "execution_count": null,
      "outputs": [
        {
          "output_type": "execute_result",
          "data": {
            "text/plain": [
              "Text(159.0, 0.5, 'Real Values')"
            ]
          },
          "metadata": {
            "tags": []
          },
          "execution_count": 39
        },
        {
          "output_type": "display_data",
          "data": {
            "image/png": "[encoded data removed]",
            "text/plain": [
              "<Figure size 1440x864 with 2 Axes>"
            ]
          },
          "metadata": {
            "tags": [],
            "needs_background": "light"
          }
        }
      ]
    }
  ]
}